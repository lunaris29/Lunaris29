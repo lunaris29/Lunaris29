{
  "cells": [
    {
      "cell_type": "markdown",
      "metadata": {
        "id": "view-in-github",
        "colab_type": "text"
      },
      "source": [
        "<a href=\"https://colab.research.google.com/github/lunaris29/Lunaris29/blob/main/MLOps_Assignment_2.ipynb\" target=\"_parent\"><img src=\"https://colab.research.google.com/assets/colab-badge.svg\" alt=\"Open In Colab\"/></a>"
      ]
    },
    {
      "cell_type": "markdown",
      "metadata": {
        "id": "JnGS1c-fquQF"
      },
      "source": [
        "**Install PyCaret**"
      ]
    },
    {
      "cell_type": "code",
      "execution_count": 1,
      "metadata": {
        "colab": {
          "base_uri": "https://localhost:8080/"
        },
        "id": "elY2EYS7p6ah",
        "outputId": "c2a402b7-11b9-4d2e-db97-af210530a3d4"
      },
      "outputs": [
        {
          "output_type": "stream",
          "name": "stdout",
          "text": [
            "Requirement already satisfied: pycaret in /usr/local/lib/python3.11/dist-packages (3.3.2)\n",
            "Requirement already satisfied: ipython>=5.5.0 in /usr/local/lib/python3.11/dist-packages (from pycaret) (7.34.0)\n",
            "Requirement already satisfied: ipywidgets>=7.6.5 in /usr/local/lib/python3.11/dist-packages (from pycaret) (7.7.1)\n",
            "Requirement already satisfied: tqdm>=4.62.0 in /usr/local/lib/python3.11/dist-packages (from pycaret) (4.67.1)\n",
            "Requirement already satisfied: numpy<1.27,>=1.21 in /usr/local/lib/python3.11/dist-packages (from pycaret) (1.26.4)\n",
            "Requirement already satisfied: pandas<2.2.0 in /usr/local/lib/python3.11/dist-packages (from pycaret) (2.1.4)\n",
            "Requirement already satisfied: jinja2>=3 in /usr/local/lib/python3.11/dist-packages (from pycaret) (3.1.6)\n",
            "Requirement already satisfied: scipy<=1.11.4,>=1.6.1 in /usr/local/lib/python3.11/dist-packages (from pycaret) (1.11.4)\n",
            "Requirement already satisfied: joblib<1.4,>=1.2.0 in /usr/local/lib/python3.11/dist-packages (from pycaret) (1.3.2)\n",
            "Requirement already satisfied: scikit-learn>1.4.0 in /usr/local/lib/python3.11/dist-packages (from pycaret) (1.4.2)\n",
            "Requirement already satisfied: pyod>=1.1.3 in /usr/local/lib/python3.11/dist-packages (from pycaret) (2.0.5)\n",
            "Requirement already satisfied: imbalanced-learn>=0.12.0 in /usr/local/lib/python3.11/dist-packages (from pycaret) (0.13.0)\n",
            "Requirement already satisfied: category-encoders>=2.4.0 in /usr/local/lib/python3.11/dist-packages (from pycaret) (2.7.0)\n",
            "Requirement already satisfied: lightgbm>=3.0.0 in /usr/local/lib/python3.11/dist-packages (from pycaret) (4.5.0)\n",
            "Requirement already satisfied: numba>=0.55.0 in /usr/local/lib/python3.11/dist-packages (from pycaret) (0.60.0)\n",
            "Requirement already satisfied: requests>=2.27.1 in /usr/local/lib/python3.11/dist-packages (from pycaret) (2.32.3)\n",
            "Requirement already satisfied: psutil>=5.9.0 in /usr/local/lib/python3.11/dist-packages (from pycaret) (5.9.5)\n",
            "Requirement already satisfied: markupsafe>=2.0.1 in /usr/local/lib/python3.11/dist-packages (from pycaret) (3.0.2)\n",
            "Requirement already satisfied: importlib-metadata>=4.12.0 in /usr/local/lib/python3.11/dist-packages (from pycaret) (8.7.0)\n",
            "Requirement already satisfied: nbformat>=4.2.0 in /usr/local/lib/python3.11/dist-packages (from pycaret) (5.10.4)\n",
            "Requirement already satisfied: cloudpickle in /usr/local/lib/python3.11/dist-packages (from pycaret) (3.1.1)\n",
            "Requirement already satisfied: deprecation>=2.1.0 in /usr/local/lib/python3.11/dist-packages (from pycaret) (2.1.0)\n",
            "Requirement already satisfied: xxhash in /usr/local/lib/python3.11/dist-packages (from pycaret) (3.5.0)\n",
            "Requirement already satisfied: matplotlib<3.8.0 in /usr/local/lib/python3.11/dist-packages (from pycaret) (3.7.5)\n",
            "Requirement already satisfied: scikit-plot>=0.3.7 in /usr/local/lib/python3.11/dist-packages (from pycaret) (0.3.7)\n",
            "Requirement already satisfied: yellowbrick>=1.4 in /usr/local/lib/python3.11/dist-packages (from pycaret) (1.5)\n",
            "Requirement already satisfied: plotly>=5.14.0 in /usr/local/lib/python3.11/dist-packages (from pycaret) (5.24.1)\n",
            "Requirement already satisfied: kaleido>=0.2.1 in /usr/local/lib/python3.11/dist-packages (from pycaret) (0.2.1)\n",
            "Requirement already satisfied: schemdraw==0.15 in /usr/local/lib/python3.11/dist-packages (from pycaret) (0.15)\n",
            "Requirement already satisfied: plotly-resampler>=0.8.3.1 in /usr/local/lib/python3.11/dist-packages (from pycaret) (0.10.0)\n",
            "Requirement already satisfied: statsmodels>=0.12.1 in /usr/local/lib/python3.11/dist-packages (from pycaret) (0.14.4)\n",
            "Requirement already satisfied: sktime==0.26.0 in /usr/local/lib/python3.11/dist-packages (from pycaret) (0.26.0)\n",
            "Requirement already satisfied: tbats>=1.1.3 in /usr/local/lib/python3.11/dist-packages (from pycaret) (1.1.3)\n",
            "Requirement already satisfied: pmdarima>=2.0.4 in /usr/local/lib/python3.11/dist-packages (from pycaret) (2.0.4)\n",
            "Requirement already satisfied: wurlitzer in /usr/local/lib/python3.11/dist-packages (from pycaret) (3.1.1)\n",
            "Requirement already satisfied: packaging in /usr/local/lib/python3.11/dist-packages (from sktime==0.26.0->pycaret) (24.2)\n",
            "Requirement already satisfied: scikit-base<0.8.0 in /usr/local/lib/python3.11/dist-packages (from sktime==0.26.0->pycaret) (0.7.8)\n",
            "Requirement already satisfied: patsy>=0.5.1 in /usr/local/lib/python3.11/dist-packages (from category-encoders>=2.4.0->pycaret) (1.0.1)\n",
            "Requirement already satisfied: sklearn-compat<1,>=0.1 in /usr/local/lib/python3.11/dist-packages (from imbalanced-learn>=0.12.0->pycaret) (0.1.3)\n",
            "Requirement already satisfied: threadpoolctl<4,>=2.0.0 in /usr/local/lib/python3.11/dist-packages (from imbalanced-learn>=0.12.0->pycaret) (3.6.0)\n",
            "Requirement already satisfied: zipp>=3.20 in /usr/local/lib/python3.11/dist-packages (from importlib-metadata>=4.12.0->pycaret) (3.21.0)\n",
            "Requirement already satisfied: setuptools>=18.5 in /usr/local/lib/python3.11/dist-packages (from ipython>=5.5.0->pycaret) (75.2.0)\n",
            "Requirement already satisfied: jedi>=0.16 in /usr/local/lib/python3.11/dist-packages (from ipython>=5.5.0->pycaret) (0.19.2)\n",
            "Requirement already satisfied: decorator in /usr/local/lib/python3.11/dist-packages (from ipython>=5.5.0->pycaret) (4.4.2)\n",
            "Requirement already satisfied: pickleshare in /usr/local/lib/python3.11/dist-packages (from ipython>=5.5.0->pycaret) (0.7.5)\n",
            "Requirement already satisfied: traitlets>=4.2 in /usr/local/lib/python3.11/dist-packages (from ipython>=5.5.0->pycaret) (5.7.1)\n",
            "Requirement already satisfied: prompt-toolkit!=3.0.0,!=3.0.1,<3.1.0,>=2.0.0 in /usr/local/lib/python3.11/dist-packages (from ipython>=5.5.0->pycaret) (3.0.51)\n",
            "Requirement already satisfied: pygments in /usr/local/lib/python3.11/dist-packages (from ipython>=5.5.0->pycaret) (2.19.1)\n",
            "Requirement already satisfied: backcall in /usr/local/lib/python3.11/dist-packages (from ipython>=5.5.0->pycaret) (0.2.0)\n",
            "Requirement already satisfied: matplotlib-inline in /usr/local/lib/python3.11/dist-packages (from ipython>=5.5.0->pycaret) (0.1.7)\n",
            "Requirement already satisfied: pexpect>4.3 in /usr/local/lib/python3.11/dist-packages (from ipython>=5.5.0->pycaret) (4.9.0)\n",
            "Requirement already satisfied: ipykernel>=4.5.1 in /usr/local/lib/python3.11/dist-packages (from ipywidgets>=7.6.5->pycaret) (6.17.1)\n",
            "Requirement already satisfied: ipython-genutils~=0.2.0 in /usr/local/lib/python3.11/dist-packages (from ipywidgets>=7.6.5->pycaret) (0.2.0)\n",
            "Requirement already satisfied: widgetsnbextension~=3.6.0 in /usr/local/lib/python3.11/dist-packages (from ipywidgets>=7.6.5->pycaret) (3.6.10)\n",
            "Requirement already satisfied: jupyterlab-widgets>=1.0.0 in /usr/local/lib/python3.11/dist-packages (from ipywidgets>=7.6.5->pycaret) (3.0.15)\n",
            "Requirement already satisfied: contourpy>=1.0.1 in /usr/local/lib/python3.11/dist-packages (from matplotlib<3.8.0->pycaret) (1.3.2)\n",
            "Requirement already satisfied: cycler>=0.10 in /usr/local/lib/python3.11/dist-packages (from matplotlib<3.8.0->pycaret) (0.12.1)\n",
            "Requirement already satisfied: fonttools>=4.22.0 in /usr/local/lib/python3.11/dist-packages (from matplotlib<3.8.0->pycaret) (4.58.0)\n",
            "Requirement already satisfied: kiwisolver>=1.0.1 in /usr/local/lib/python3.11/dist-packages (from matplotlib<3.8.0->pycaret) (1.4.8)\n",
            "Requirement already satisfied: pillow>=6.2.0 in /usr/local/lib/python3.11/dist-packages (from matplotlib<3.8.0->pycaret) (11.2.1)\n",
            "Requirement already satisfied: pyparsing>=2.3.1 in /usr/local/lib/python3.11/dist-packages (from matplotlib<3.8.0->pycaret) (3.2.3)\n",
            "Requirement already satisfied: python-dateutil>=2.7 in /usr/local/lib/python3.11/dist-packages (from matplotlib<3.8.0->pycaret) (2.9.0.post0)\n",
            "Requirement already satisfied: fastjsonschema>=2.15 in /usr/local/lib/python3.11/dist-packages (from nbformat>=4.2.0->pycaret) (2.21.1)\n",
            "Requirement already satisfied: jsonschema>=2.6 in /usr/local/lib/python3.11/dist-packages (from nbformat>=4.2.0->pycaret) (4.23.0)\n",
            "Requirement already satisfied: jupyter-core!=5.0.*,>=4.12 in /usr/local/lib/python3.11/dist-packages (from nbformat>=4.2.0->pycaret) (5.7.2)\n",
            "Requirement already satisfied: llvmlite<0.44,>=0.43.0dev0 in /usr/local/lib/python3.11/dist-packages (from numba>=0.55.0->pycaret) (0.43.0)\n",
            "Requirement already satisfied: pytz>=2020.1 in /usr/local/lib/python3.11/dist-packages (from pandas<2.2.0->pycaret) (2025.2)\n",
            "Requirement already satisfied: tzdata>=2022.1 in /usr/local/lib/python3.11/dist-packages (from pandas<2.2.0->pycaret) (2025.2)\n",
            "Requirement already satisfied: tenacity>=6.2.0 in /usr/local/lib/python3.11/dist-packages (from plotly>=5.14.0->pycaret) (9.1.2)\n",
            "Requirement already satisfied: dash>=2.9.0 in /usr/local/lib/python3.11/dist-packages (from plotly-resampler>=0.8.3.1->pycaret) (3.0.4)\n",
            "Requirement already satisfied: orjson<4.0.0,>=3.8.0 in /usr/local/lib/python3.11/dist-packages (from plotly-resampler>=0.8.3.1->pycaret) (3.10.18)\n",
            "Requirement already satisfied: tsdownsample>=0.1.3 in /usr/local/lib/python3.11/dist-packages (from plotly-resampler>=0.8.3.1->pycaret) (0.1.4.1)\n",
            "Requirement already satisfied: Cython!=0.29.18,!=0.29.31,>=0.29 in /usr/local/lib/python3.11/dist-packages (from pmdarima>=2.0.4->pycaret) (3.0.12)\n",
            "Requirement already satisfied: urllib3 in /usr/local/lib/python3.11/dist-packages (from pmdarima>=2.0.4->pycaret) (2.4.0)\n",
            "Requirement already satisfied: charset-normalizer<4,>=2 in /usr/local/lib/python3.11/dist-packages (from requests>=2.27.1->pycaret) (3.4.2)\n",
            "Requirement already satisfied: idna<4,>=2.5 in /usr/local/lib/python3.11/dist-packages (from requests>=2.27.1->pycaret) (3.10)\n",
            "Requirement already satisfied: certifi>=2017.4.17 in /usr/local/lib/python3.11/dist-packages (from requests>=2.27.1->pycaret) (2025.4.26)\n",
            "Requirement already satisfied: Flask<3.1,>=1.0.4 in /usr/local/lib/python3.11/dist-packages (from dash>=2.9.0->plotly-resampler>=0.8.3.1->pycaret) (3.0.3)\n",
            "Requirement already satisfied: Werkzeug<3.1 in /usr/local/lib/python3.11/dist-packages (from dash>=2.9.0->plotly-resampler>=0.8.3.1->pycaret) (3.0.6)\n",
            "Requirement already satisfied: typing-extensions>=4.1.1 in /usr/local/lib/python3.11/dist-packages (from dash>=2.9.0->plotly-resampler>=0.8.3.1->pycaret) (4.13.2)\n",
            "Requirement already satisfied: retrying in /usr/local/lib/python3.11/dist-packages (from dash>=2.9.0->plotly-resampler>=0.8.3.1->pycaret) (1.3.4)\n",
            "Requirement already satisfied: nest-asyncio in /usr/local/lib/python3.11/dist-packages (from dash>=2.9.0->plotly-resampler>=0.8.3.1->pycaret) (1.6.0)\n",
            "Requirement already satisfied: debugpy>=1.0 in /usr/local/lib/python3.11/dist-packages (from ipykernel>=4.5.1->ipywidgets>=7.6.5->pycaret) (1.8.0)\n",
            "Requirement already satisfied: jupyter-client>=6.1.12 in /usr/local/lib/python3.11/dist-packages (from ipykernel>=4.5.1->ipywidgets>=7.6.5->pycaret) (6.1.12)\n",
            "Requirement already satisfied: pyzmq>=17 in /usr/local/lib/python3.11/dist-packages (from ipykernel>=4.5.1->ipywidgets>=7.6.5->pycaret) (24.0.1)\n",
            "Requirement already satisfied: tornado>=6.1 in /usr/local/lib/python3.11/dist-packages (from ipykernel>=4.5.1->ipywidgets>=7.6.5->pycaret) (6.4.2)\n",
            "Requirement already satisfied: parso<0.9.0,>=0.8.4 in /usr/local/lib/python3.11/dist-packages (from jedi>=0.16->ipython>=5.5.0->pycaret) (0.8.4)\n",
            "Requirement already satisfied: attrs>=22.2.0 in /usr/local/lib/python3.11/dist-packages (from jsonschema>=2.6->nbformat>=4.2.0->pycaret) (25.3.0)\n",
            "Requirement already satisfied: jsonschema-specifications>=2023.03.6 in /usr/local/lib/python3.11/dist-packages (from jsonschema>=2.6->nbformat>=4.2.0->pycaret) (2025.4.1)\n",
            "Requirement already satisfied: referencing>=0.28.4 in /usr/local/lib/python3.11/dist-packages (from jsonschema>=2.6->nbformat>=4.2.0->pycaret) (0.36.2)\n",
            "Requirement already satisfied: rpds-py>=0.7.1 in /usr/local/lib/python3.11/dist-packages (from jsonschema>=2.6->nbformat>=4.2.0->pycaret) (0.24.0)\n",
            "Requirement already satisfied: platformdirs>=2.5 in /usr/local/lib/python3.11/dist-packages (from jupyter-core!=5.0.*,>=4.12->nbformat>=4.2.0->pycaret) (4.3.8)\n",
            "Requirement already satisfied: ptyprocess>=0.5 in /usr/local/lib/python3.11/dist-packages (from pexpect>4.3->ipython>=5.5.0->pycaret) (0.7.0)\n",
            "Requirement already satisfied: wcwidth in /usr/local/lib/python3.11/dist-packages (from prompt-toolkit!=3.0.0,!=3.0.1,<3.1.0,>=2.0.0->ipython>=5.5.0->pycaret) (0.2.13)\n",
            "Requirement already satisfied: six>=1.5 in /usr/local/lib/python3.11/dist-packages (from python-dateutil>=2.7->matplotlib<3.8.0->pycaret) (1.17.0)\n",
            "Requirement already satisfied: notebook>=4.4.1 in /usr/local/lib/python3.11/dist-packages (from widgetsnbextension~=3.6.0->ipywidgets>=7.6.5->pycaret) (6.5.7)\n",
            "Requirement already satisfied: itsdangerous>=2.1.2 in /usr/local/lib/python3.11/dist-packages (from Flask<3.1,>=1.0.4->dash>=2.9.0->plotly-resampler>=0.8.3.1->pycaret) (2.2.0)\n",
            "Requirement already satisfied: click>=8.1.3 in /usr/local/lib/python3.11/dist-packages (from Flask<3.1,>=1.0.4->dash>=2.9.0->plotly-resampler>=0.8.3.1->pycaret) (8.2.0)\n",
            "Requirement already satisfied: blinker>=1.6.2 in /usr/local/lib/python3.11/dist-packages (from Flask<3.1,>=1.0.4->dash>=2.9.0->plotly-resampler>=0.8.3.1->pycaret) (1.9.0)\n",
            "Requirement already satisfied: argon2-cffi in /usr/local/lib/python3.11/dist-packages (from notebook>=4.4.1->widgetsnbextension~=3.6.0->ipywidgets>=7.6.5->pycaret) (23.1.0)\n",
            "Requirement already satisfied: nbconvert>=5 in /usr/local/lib/python3.11/dist-packages (from notebook>=4.4.1->widgetsnbextension~=3.6.0->ipywidgets>=7.6.5->pycaret) (7.16.6)\n",
            "Requirement already satisfied: Send2Trash>=1.8.0 in /usr/local/lib/python3.11/dist-packages (from notebook>=4.4.1->widgetsnbextension~=3.6.0->ipywidgets>=7.6.5->pycaret) (1.8.3)\n",
            "Requirement already satisfied: terminado>=0.8.3 in /usr/local/lib/python3.11/dist-packages (from notebook>=4.4.1->widgetsnbextension~=3.6.0->ipywidgets>=7.6.5->pycaret) (0.18.1)\n",
            "Requirement already satisfied: prometheus-client in /usr/local/lib/python3.11/dist-packages (from notebook>=4.4.1->widgetsnbextension~=3.6.0->ipywidgets>=7.6.5->pycaret) (0.21.1)\n",
            "Requirement already satisfied: nbclassic>=0.4.7 in /usr/local/lib/python3.11/dist-packages (from notebook>=4.4.1->widgetsnbextension~=3.6.0->ipywidgets>=7.6.5->pycaret) (1.3.1)\n",
            "Requirement already satisfied: notebook-shim>=0.2.3 in /usr/local/lib/python3.11/dist-packages (from nbclassic>=0.4.7->notebook>=4.4.1->widgetsnbextension~=3.6.0->ipywidgets>=7.6.5->pycaret) (0.2.4)\n",
            "Requirement already satisfied: beautifulsoup4 in /usr/local/lib/python3.11/dist-packages (from nbconvert>=5->notebook>=4.4.1->widgetsnbextension~=3.6.0->ipywidgets>=7.6.5->pycaret) (4.13.4)\n",
            "Requirement already satisfied: bleach!=5.0.0 in /usr/local/lib/python3.11/dist-packages (from bleach[css]!=5.0.0->nbconvert>=5->notebook>=4.4.1->widgetsnbextension~=3.6.0->ipywidgets>=7.6.5->pycaret) (6.2.0)\n",
            "Requirement already satisfied: defusedxml in /usr/local/lib/python3.11/dist-packages (from nbconvert>=5->notebook>=4.4.1->widgetsnbextension~=3.6.0->ipywidgets>=7.6.5->pycaret) (0.7.1)\n",
            "Requirement already satisfied: jupyterlab-pygments in /usr/local/lib/python3.11/dist-packages (from nbconvert>=5->notebook>=4.4.1->widgetsnbextension~=3.6.0->ipywidgets>=7.6.5->pycaret) (0.3.0)\n",
            "Requirement already satisfied: mistune<4,>=2.0.3 in /usr/local/lib/python3.11/dist-packages (from nbconvert>=5->notebook>=4.4.1->widgetsnbextension~=3.6.0->ipywidgets>=7.6.5->pycaret) (3.1.3)\n",
            "Requirement already satisfied: nbclient>=0.5.0 in /usr/local/lib/python3.11/dist-packages (from nbconvert>=5->notebook>=4.4.1->widgetsnbextension~=3.6.0->ipywidgets>=7.6.5->pycaret) (0.10.2)\n",
            "Requirement already satisfied: pandocfilters>=1.4.1 in /usr/local/lib/python3.11/dist-packages (from nbconvert>=5->notebook>=4.4.1->widgetsnbextension~=3.6.0->ipywidgets>=7.6.5->pycaret) (1.5.1)\n",
            "Requirement already satisfied: argon2-cffi-bindings in /usr/local/lib/python3.11/dist-packages (from argon2-cffi->notebook>=4.4.1->widgetsnbextension~=3.6.0->ipywidgets>=7.6.5->pycaret) (21.2.0)\n",
            "Requirement already satisfied: webencodings in /usr/local/lib/python3.11/dist-packages (from bleach!=5.0.0->bleach[css]!=5.0.0->nbconvert>=5->notebook>=4.4.1->widgetsnbextension~=3.6.0->ipywidgets>=7.6.5->pycaret) (0.5.1)\n",
            "Requirement already satisfied: tinycss2<1.5,>=1.1.0 in /usr/local/lib/python3.11/dist-packages (from bleach[css]!=5.0.0->nbconvert>=5->notebook>=4.4.1->widgetsnbextension~=3.6.0->ipywidgets>=7.6.5->pycaret) (1.4.0)\n",
            "Requirement already satisfied: jupyter-server<3,>=1.8 in /usr/local/lib/python3.11/dist-packages (from notebook-shim>=0.2.3->nbclassic>=0.4.7->notebook>=4.4.1->widgetsnbextension~=3.6.0->ipywidgets>=7.6.5->pycaret) (1.16.0)\n",
            "Requirement already satisfied: cffi>=1.0.1 in /usr/local/lib/python3.11/dist-packages (from argon2-cffi-bindings->argon2-cffi->notebook>=4.4.1->widgetsnbextension~=3.6.0->ipywidgets>=7.6.5->pycaret) (1.17.1)\n",
            "Requirement already satisfied: soupsieve>1.2 in /usr/local/lib/python3.11/dist-packages (from beautifulsoup4->nbconvert>=5->notebook>=4.4.1->widgetsnbextension~=3.6.0->ipywidgets>=7.6.5->pycaret) (2.7)\n",
            "Requirement already satisfied: pycparser in /usr/local/lib/python3.11/dist-packages (from cffi>=1.0.1->argon2-cffi-bindings->argon2-cffi->notebook>=4.4.1->widgetsnbextension~=3.6.0->ipywidgets>=7.6.5->pycaret) (2.22)\n",
            "Requirement already satisfied: anyio>=3.1.0 in /usr/local/lib/python3.11/dist-packages (from jupyter-server<3,>=1.8->notebook-shim>=0.2.3->nbclassic>=0.4.7->notebook>=4.4.1->widgetsnbextension~=3.6.0->ipywidgets>=7.6.5->pycaret) (4.9.0)\n",
            "Requirement already satisfied: websocket-client in /usr/local/lib/python3.11/dist-packages (from jupyter-server<3,>=1.8->notebook-shim>=0.2.3->nbclassic>=0.4.7->notebook>=4.4.1->widgetsnbextension~=3.6.0->ipywidgets>=7.6.5->pycaret) (1.8.0)\n",
            "Requirement already satisfied: sniffio>=1.1 in /usr/local/lib/python3.11/dist-packages (from anyio>=3.1.0->jupyter-server<3,>=1.8->notebook-shim>=0.2.3->nbclassic>=0.4.7->notebook>=4.4.1->widgetsnbextension~=3.6.0->ipywidgets>=7.6.5->pycaret) (1.3.1)\n"
          ]
        }
      ],
      "source": [
        "!pip install pycaret"
      ]
    },
    {
      "cell_type": "markdown",
      "metadata": {
        "id": "k5e4rfVYqYhz"
      },
      "source": [
        "**MBTI Type Dataset Fetch via KaggleHub**"
      ]
    },
    {
      "cell_type": "code",
      "execution_count": 2,
      "metadata": {
        "id": "QFMX74-UpLSg"
      },
      "outputs": [],
      "source": [
        "import kagglehub\n",
        "import pandas as pd\n",
        "import re\n",
        "from pathlib import Path"
      ]
    },
    {
      "cell_type": "code",
      "execution_count": 3,
      "metadata": {
        "id": "ZSpX-xPQp6yE",
        "colab": {
          "base_uri": "https://localhost:8080/"
        },
        "outputId": "58d93cd8-9300-45b2-97f5-ce7a0ba3cee9"
      },
      "outputs": [
        {
          "output_type": "stream",
          "name": "stdout",
          "text": [
            "Downloading from https://www.kaggle.com/api/v1/datasets/download/datasnaek/mbti-type?dataset_version_number=1...\n"
          ]
        },
        {
          "output_type": "stream",
          "name": "stderr",
          "text": [
            "100%|██████████| 24.4M/24.4M [00:00<00:00, 155MB/s]"
          ]
        },
        {
          "output_type": "stream",
          "name": "stdout",
          "text": [
            "Extracting files...\n"
          ]
        },
        {
          "output_type": "stream",
          "name": "stderr",
          "text": [
            "\n"
          ]
        }
      ],
      "source": [
        "path = kagglehub.dataset_download(\"datasnaek/mbti-type\")\n",
        "path = Path(path)"
      ]
    },
    {
      "cell_type": "markdown",
      "metadata": {
        "id": "TqfmZCCbqcwB"
      },
      "source": [
        "**Dataset Preprocessing**"
      ]
    },
    {
      "cell_type": "code",
      "execution_count": 4,
      "metadata": {
        "colab": {
          "base_uri": "https://localhost:8080/"
        },
        "id": "v_V2AkN9p6vn",
        "outputId": "b51feb30-374e-4649-80fb-4bee82edbae2"
      },
      "outputs": [
        {
          "output_type": "stream",
          "name": "stdout",
          "text": [
            "/root/.cache/kagglehub/datasets/datasnaek/mbti-type/versions/1/mbti_1.csv\n"
          ]
        }
      ],
      "source": [
        "print(list(path.rglob(\"*.csv\"))[0])"
      ]
    },
    {
      "cell_type": "code",
      "execution_count": 5,
      "metadata": {
        "colab": {
          "base_uri": "https://localhost:8080/"
        },
        "id": "jlSI9oJLp6tE",
        "outputId": "f5e661c8-d6ae-459c-bd7a-ee65623d474d"
      },
      "outputs": [
        {
          "output_type": "stream",
          "name": "stdout",
          "text": [
            "   type                                              posts\n",
            "0  INFJ  'http://www.youtube.com/watch?v=qsXHcwe3krw|||...\n",
            "1  ENTP  'I'm finding the lack of me in these posts ver...\n",
            "2  INTP  'Good one  _____   https://www.youtube.com/wat...\n",
            "3  INTJ  'Dear INTP,   I enjoyed our conversation the o...\n",
            "4  ENTJ  'You're fired.|||That's another silly misconce...\n",
            "type\n",
            "INFP    1832\n",
            "INFJ    1470\n",
            "INTP    1304\n",
            "INTJ    1091\n",
            "ENTP     685\n",
            "ENFP     675\n",
            "ISTP     337\n",
            "ISFP     271\n",
            "ENTJ     231\n",
            "ISTJ     205\n",
            "ENFJ     190\n",
            "ISFJ     166\n",
            "ESTP      89\n",
            "ESFP      48\n",
            "ESFJ      42\n",
            "ESTJ      39\n",
            "Name: count, dtype: int64\n"
          ]
        }
      ],
      "source": [
        "df = pd.read_csv(\"/root/.cache/kagglehub/datasets/datasnaek/mbti-type/versions/1/mbti_1.csv\")\n",
        "print(df.head())\n",
        "print(df['type'].value_counts())"
      ]
    },
    {
      "cell_type": "code",
      "execution_count": 6,
      "metadata": {
        "id": "n-xlOWGup6p-"
      },
      "outputs": [],
      "source": [
        "def clean_step1(text):\n",
        "    text = text.replace(\"|||\", \" \")\n",
        "    text = text.replace(\"\\n\", \" \").replace(\"\\t\", \" \").strip()\n",
        "    return text\n",
        "\n",
        "df['clean_posts'] = df['posts'].apply(clean_step1)"
      ]
    },
    {
      "cell_type": "code",
      "execution_count": 7,
      "metadata": {
        "id": "d57C2QqDp6nv"
      },
      "outputs": [],
      "source": [
        "def clean_step2(text):\n",
        "    text = re.sub(r'http\\S+', '', text)\n",
        "    text = re.sub(r'[^a-zA-Z\\s]', '', text)\n",
        "    text = text.lower()\n",
        "    return text\n",
        "\n",
        "df['clean_posts'] = df['clean_posts'].apply(clean_step2)"
      ]
    },
    {
      "cell_type": "code",
      "execution_count": 8,
      "metadata": {
        "colab": {
          "base_uri": "https://localhost:8080/"
        },
        "id": "EYhmpSJMp6lT",
        "outputId": "9f6f01db-7ef9-4a8f-ef5c-9cb3b29f3d1b"
      },
      "outputs": [
        {
          "output_type": "stream",
          "name": "stderr",
          "text": [
            "[nltk_data] Downloading package stopwords to /root/nltk_data...\n",
            "[nltk_data]   Unzipping corpora/stopwords.zip.\n"
          ]
        }
      ],
      "source": [
        "import nltk\n",
        "nltk.download('stopwords')\n",
        "from nltk.corpus import stopwords\n",
        "\n",
        "stop_words = set(stopwords.words('english'))\n",
        "\n",
        "def clean_step3(text):\n",
        "    words = text.split()\n",
        "    filtered = [word for word in words if word not in stop_words]\n",
        "    return ' '.join(filtered)\n",
        "\n",
        "df['clean_posts'] = df['clean_posts'].apply(clean_step3)"
      ]
    },
    {
      "cell_type": "code",
      "execution_count": 9,
      "metadata": {
        "colab": {
          "base_uri": "https://localhost:8080/"
        },
        "id": "0q-2UgNBp6iv",
        "outputId": "3da95438-6932-411d-f894-47e8a1dc8572"
      },
      "outputs": [
        {
          "output_type": "stream",
          "name": "stderr",
          "text": [
            "[nltk_data] Downloading package wordnet to /root/nltk_data...\n"
          ]
        }
      ],
      "source": [
        "import nltk\n",
        "from nltk.stem import WordNetLemmatizer\n",
        "nltk.download('wordnet')\n",
        "\n",
        "lemmatizer = WordNetLemmatizer()\n",
        "\n",
        "def clean_step4(text):\n",
        "    words = text.split()\n",
        "    lemmatized = [lemmatizer.lemmatize(word) for word in words]\n",
        "    return ' '.join(lemmatized)\n",
        "\n",
        "df['clean_posts'] = df['clean_posts'].apply(clean_step4)"
      ]
    },
    {
      "cell_type": "markdown",
      "metadata": {
        "id": "zbWRsDaHqgE0"
      },
      "source": [
        "**Feature Extrction**"
      ]
    },
    {
      "cell_type": "code",
      "execution_count": 10,
      "metadata": {
        "id": "55qa6zvep6gC"
      },
      "outputs": [],
      "source": [
        "from sklearn.feature_extraction.text import TfidfVectorizer\n",
        "\n",
        "tfidf = TfidfVectorizer(max_features=5000, ngram_range=(1,2))\n",
        "X = tfidf.fit_transform(df['clean_posts'])"
      ]
    },
    {
      "cell_type": "markdown",
      "metadata": {
        "id": "AX82D73pqj5L"
      },
      "source": [
        "**Label Encoding**"
      ]
    },
    {
      "cell_type": "code",
      "execution_count": 11,
      "metadata": {
        "colab": {
          "base_uri": "https://localhost:8080/"
        },
        "id": "Jweey8e5p6dG",
        "outputId": "4403df42-14f7-4295-f5ee-718bb3bc7548"
      },
      "outputs": [
        {
          "output_type": "stream",
          "name": "stdout",
          "text": [
            "['ENFJ' 'ENFP' 'ENTJ' 'ENTP' 'ESFJ' 'ESFP' 'ESTJ' 'ESTP' 'INFJ' 'INFP'\n",
            " 'INTJ' 'INTP' 'ISFJ' 'ISFP' 'ISTJ' 'ISTP']\n",
            "[ 8  3 11 10  2 10  8 10  8 11]\n"
          ]
        }
      ],
      "source": [
        "from sklearn.preprocessing import LabelEncoder\n",
        "\n",
        "le = LabelEncoder()\n",
        "y = le.fit_transform(df['type'])\n",
        "print(le.classes_)\n",
        "print(y[:10])"
      ]
    },
    {
      "cell_type": "markdown",
      "metadata": {
        "id": "mWnG1W2Zwd2e"
      },
      "source": [
        "**Auto ML**"
      ]
    },
    {
      "cell_type": "code",
      "execution_count": 12,
      "metadata": {
        "id": "Buf927ybp6XW"
      },
      "outputs": [],
      "source": [
        "X_dense = X.toarray()\n",
        "\n",
        "df_ml = pd.DataFrame(X_dense)\n",
        "df_ml['target'] = y"
      ]
    },
    {
      "cell_type": "code",
      "execution_count": 13,
      "metadata": {
        "id": "L5k1IzuPp6Ss"
      },
      "outputs": [],
      "source": [
        "from pycaret.classification import *\n",
        "\n",
        "clf = setup(data=df_ml, target='target', session_id=42, fold=5, verbose=False)"
      ]
    },
    {
      "cell_type": "code",
      "execution_count": 14,
      "metadata": {
        "colab": {
          "base_uri": "https://localhost:8080/",
          "height": 425,
          "referenced_widgets": [
            "8d90e085094f412699b581c594045f8e",
            "332c9abeaae54414ad7c531dd2745ac4",
            "edc6228f2b91431cae83ab70fb9783af",
            "a2e4b5ed9ad04c2696159900e63f105f",
            "292509dd4eff47c397eb70bdfa6c9d42",
            "3aaf4f8491df422d869f1d02d3cfe338",
            "2e7a80607ead47f9b5e0343e453b56e5",
            "61368999d264410b8196b615bddc0a55",
            "5258fc2a80c14a6da0285f6f61d79d5e",
            "25bdbd000eb4497fa828da59845f8593",
            "ede8fb8eb6a441fcbffad077aaf97a08"
          ]
        },
        "id": "nZhOWyvssVlM",
        "outputId": "35e64baf-b5b0-414d-daa8-5960bab348c1"
      },
      "outputs": [
        {
          "output_type": "display_data",
          "data": {
            "text/plain": [
              "<IPython.core.display.HTML object>"
            ],
            "text/html": []
          },
          "metadata": {}
        },
        {
          "output_type": "display_data",
          "data": {
            "text/plain": [
              "<pandas.io.formats.style.Styler at 0x7c3c149efd10>"
            ],
            "text/html": [
              "<style type=\"text/css\">\n",
              "#T_b3496 th {\n",
              "  text-align: left;\n",
              "}\n",
              "#T_b3496_row0_col0, #T_b3496_row0_col2, #T_b3496_row0_col4, #T_b3496_row1_col0, #T_b3496_row1_col1, #T_b3496_row1_col2, #T_b3496_row1_col3, #T_b3496_row1_col5, #T_b3496_row1_col6, #T_b3496_row1_col7, #T_b3496_row2_col0, #T_b3496_row2_col1, #T_b3496_row2_col2, #T_b3496_row2_col3, #T_b3496_row2_col4, #T_b3496_row2_col5, #T_b3496_row2_col6, #T_b3496_row2_col7, #T_b3496_row3_col0, #T_b3496_row3_col1, #T_b3496_row3_col3, #T_b3496_row3_col4, #T_b3496_row3_col5, #T_b3496_row3_col6, #T_b3496_row3_col7, #T_b3496_row4_col0, #T_b3496_row4_col1, #T_b3496_row4_col2, #T_b3496_row4_col3, #T_b3496_row4_col4, #T_b3496_row4_col5, #T_b3496_row4_col6, #T_b3496_row4_col7, #T_b3496_row5_col0, #T_b3496_row5_col1, #T_b3496_row5_col2, #T_b3496_row5_col3, #T_b3496_row5_col4, #T_b3496_row5_col5, #T_b3496_row5_col6, #T_b3496_row5_col7, #T_b3496_row6_col0, #T_b3496_row6_col1, #T_b3496_row6_col2, #T_b3496_row6_col3, #T_b3496_row6_col4, #T_b3496_row6_col5, #T_b3496_row6_col6, #T_b3496_row6_col7, #T_b3496_row7_col0, #T_b3496_row7_col1, #T_b3496_row7_col2, #T_b3496_row7_col3, #T_b3496_row7_col4, #T_b3496_row7_col5, #T_b3496_row7_col6, #T_b3496_row7_col7, #T_b3496_row8_col0, #T_b3496_row8_col1, #T_b3496_row8_col2, #T_b3496_row8_col3, #T_b3496_row8_col4, #T_b3496_row8_col5, #T_b3496_row8_col6, #T_b3496_row8_col7, #T_b3496_row9_col0, #T_b3496_row9_col1, #T_b3496_row9_col2, #T_b3496_row9_col3, #T_b3496_row9_col4, #T_b3496_row9_col5, #T_b3496_row9_col6, #T_b3496_row9_col7, #T_b3496_row10_col0, #T_b3496_row10_col1, #T_b3496_row10_col2, #T_b3496_row10_col3, #T_b3496_row10_col4, #T_b3496_row10_col5, #T_b3496_row10_col6, #T_b3496_row10_col7, #T_b3496_row11_col0, #T_b3496_row11_col1, #T_b3496_row11_col2, #T_b3496_row11_col3, #T_b3496_row11_col4, #T_b3496_row11_col5, #T_b3496_row11_col6, #T_b3496_row11_col7 {\n",
              "  text-align: left;\n",
              "}\n",
              "#T_b3496_row0_col1, #T_b3496_row0_col3, #T_b3496_row0_col5, #T_b3496_row0_col6, #T_b3496_row0_col7, #T_b3496_row1_col4, #T_b3496_row3_col2 {\n",
              "  text-align: left;\n",
              "  background-color: yellow;\n",
              "}\n",
              "#T_b3496_row0_col8, #T_b3496_row1_col8, #T_b3496_row2_col8, #T_b3496_row3_col8, #T_b3496_row4_col8, #T_b3496_row5_col8, #T_b3496_row6_col8, #T_b3496_row7_col8, #T_b3496_row8_col8, #T_b3496_row10_col8, #T_b3496_row11_col8 {\n",
              "  text-align: left;\n",
              "  background-color: lightgrey;\n",
              "}\n",
              "#T_b3496_row9_col8 {\n",
              "  text-align: left;\n",
              "  background-color: yellow;\n",
              "  background-color: lightgrey;\n",
              "}\n",
              "</style>\n",
              "<table id=\"T_b3496\" class=\"dataframe\">\n",
              "  <thead>\n",
              "    <tr>\n",
              "      <th class=\"blank level0\" >&nbsp;</th>\n",
              "      <th id=\"T_b3496_level0_col0\" class=\"col_heading level0 col0\" >Model</th>\n",
              "      <th id=\"T_b3496_level0_col1\" class=\"col_heading level0 col1\" >Accuracy</th>\n",
              "      <th id=\"T_b3496_level0_col2\" class=\"col_heading level0 col2\" >AUC</th>\n",
              "      <th id=\"T_b3496_level0_col3\" class=\"col_heading level0 col3\" >Recall</th>\n",
              "      <th id=\"T_b3496_level0_col4\" class=\"col_heading level0 col4\" >Prec.</th>\n",
              "      <th id=\"T_b3496_level0_col5\" class=\"col_heading level0 col5\" >F1</th>\n",
              "      <th id=\"T_b3496_level0_col6\" class=\"col_heading level0 col6\" >Kappa</th>\n",
              "      <th id=\"T_b3496_level0_col7\" class=\"col_heading level0 col7\" >MCC</th>\n",
              "      <th id=\"T_b3496_level0_col8\" class=\"col_heading level0 col8\" >TT (Sec)</th>\n",
              "    </tr>\n",
              "  </thead>\n",
              "  <tbody>\n",
              "    <tr>\n",
              "      <th id=\"T_b3496_level0_row0\" class=\"row_heading level0 row0\" >svm</th>\n",
              "      <td id=\"T_b3496_row0_col0\" class=\"data row0 col0\" >SVM - Linear Kernel</td>\n",
              "      <td id=\"T_b3496_row0_col1\" class=\"data row0 col1\" >0.6431</td>\n",
              "      <td id=\"T_b3496_row0_col2\" class=\"data row0 col2\" >0.0000</td>\n",
              "      <td id=\"T_b3496_row0_col3\" class=\"data row0 col3\" >0.6431</td>\n",
              "      <td id=\"T_b3496_row0_col4\" class=\"data row0 col4\" >0.6445</td>\n",
              "      <td id=\"T_b3496_row0_col5\" class=\"data row0 col5\" >0.6342</td>\n",
              "      <td id=\"T_b3496_row0_col6\" class=\"data row0 col6\" >0.5847</td>\n",
              "      <td id=\"T_b3496_row0_col7\" class=\"data row0 col7\" >0.5862</td>\n",
              "      <td id=\"T_b3496_row0_col8\" class=\"data row0 col8\" >9.7900</td>\n",
              "    </tr>\n",
              "    <tr>\n",
              "      <th id=\"T_b3496_level0_row1\" class=\"row_heading level0 row1\" >ridge</th>\n",
              "      <td id=\"T_b3496_row1_col0\" class=\"data row1 col0\" >Ridge Classifier</td>\n",
              "      <td id=\"T_b3496_row1_col1\" class=\"data row1 col1\" >0.6425</td>\n",
              "      <td id=\"T_b3496_row1_col2\" class=\"data row1 col2\" >0.0000</td>\n",
              "      <td id=\"T_b3496_row1_col3\" class=\"data row1 col3\" >0.6425</td>\n",
              "      <td id=\"T_b3496_row1_col4\" class=\"data row1 col4\" >0.6461</td>\n",
              "      <td id=\"T_b3496_row1_col5\" class=\"data row1 col5\" >0.6290</td>\n",
              "      <td id=\"T_b3496_row1_col6\" class=\"data row1 col6\" >0.5816</td>\n",
              "      <td id=\"T_b3496_row1_col7\" class=\"data row1 col7\" >0.5838</td>\n",
              "      <td id=\"T_b3496_row1_col8\" class=\"data row1 col8\" >4.5780</td>\n",
              "    </tr>\n",
              "    <tr>\n",
              "      <th id=\"T_b3496_level0_row2\" class=\"row_heading level0 row2\" >lr</th>\n",
              "      <td id=\"T_b3496_row2_col0\" class=\"data row2 col0\" >Logistic Regression</td>\n",
              "      <td id=\"T_b3496_row2_col1\" class=\"data row2 col1\" >0.6276</td>\n",
              "      <td id=\"T_b3496_row2_col2\" class=\"data row2 col2\" >0.0000</td>\n",
              "      <td id=\"T_b3496_row2_col3\" class=\"data row2 col3\" >0.6276</td>\n",
              "      <td id=\"T_b3496_row2_col4\" class=\"data row2 col4\" >0.6411</td>\n",
              "      <td id=\"T_b3496_row2_col5\" class=\"data row2 col5\" >0.5942</td>\n",
              "      <td id=\"T_b3496_row2_col6\" class=\"data row2 col6\" >0.5587</td>\n",
              "      <td id=\"T_b3496_row2_col7\" class=\"data row2 col7\" >0.5650</td>\n",
              "      <td id=\"T_b3496_row2_col8\" class=\"data row2 col8\" >13.6760</td>\n",
              "    </tr>\n",
              "    <tr>\n",
              "      <th id=\"T_b3496_level0_row3\" class=\"row_heading level0 row3\" >rf</th>\n",
              "      <td id=\"T_b3496_row3_col0\" class=\"data row3 col0\" >Random Forest Classifier</td>\n",
              "      <td id=\"T_b3496_row3_col1\" class=\"data row3 col1\" >0.5647</td>\n",
              "      <td id=\"T_b3496_row3_col2\" class=\"data row3 col2\" >0.8895</td>\n",
              "      <td id=\"T_b3496_row3_col3\" class=\"data row3 col3\" >0.5647</td>\n",
              "      <td id=\"T_b3496_row3_col4\" class=\"data row3 col4\" >0.5731</td>\n",
              "      <td id=\"T_b3496_row3_col5\" class=\"data row3 col5\" >0.5135</td>\n",
              "      <td id=\"T_b3496_row3_col6\" class=\"data row3 col6\" >0.4772</td>\n",
              "      <td id=\"T_b3496_row3_col7\" class=\"data row3 col7\" >0.4901</td>\n",
              "      <td id=\"T_b3496_row3_col8\" class=\"data row3 col8\" >10.6280</td>\n",
              "    </tr>\n",
              "    <tr>\n",
              "      <th id=\"T_b3496_level0_row4\" class=\"row_heading level0 row4\" >et</th>\n",
              "      <td id=\"T_b3496_row4_col0\" class=\"data row4 col0\" >Extra Trees Classifier</td>\n",
              "      <td id=\"T_b3496_row4_col1\" class=\"data row4 col1\" >0.5051</td>\n",
              "      <td id=\"T_b3496_row4_col2\" class=\"data row4 col2\" >0.8707</td>\n",
              "      <td id=\"T_b3496_row4_col3\" class=\"data row4 col3\" >0.5051</td>\n",
              "      <td id=\"T_b3496_row4_col4\" class=\"data row4 col4\" >0.5290</td>\n",
              "      <td id=\"T_b3496_row4_col5\" class=\"data row4 col5\" >0.4485</td>\n",
              "      <td id=\"T_b3496_row4_col6\" class=\"data row4 col6\" >0.4004</td>\n",
              "      <td id=\"T_b3496_row4_col7\" class=\"data row4 col7\" >0.4205</td>\n",
              "      <td id=\"T_b3496_row4_col8\" class=\"data row4 col8\" >11.1760</td>\n",
              "    </tr>\n",
              "    <tr>\n",
              "      <th id=\"T_b3496_level0_row5\" class=\"row_heading level0 row5\" >dt</th>\n",
              "      <td id=\"T_b3496_row5_col0\" class=\"data row5 col0\" >Decision Tree Classifier</td>\n",
              "      <td id=\"T_b3496_row5_col1\" class=\"data row5 col1\" >0.4580</td>\n",
              "      <td id=\"T_b3496_row5_col2\" class=\"data row5 col2\" >0.6917</td>\n",
              "      <td id=\"T_b3496_row5_col3\" class=\"data row5 col3\" >0.4580</td>\n",
              "      <td id=\"T_b3496_row5_col4\" class=\"data row5 col4\" >0.4573</td>\n",
              "      <td id=\"T_b3496_row5_col5\" class=\"data row5 col5\" >0.4566</td>\n",
              "      <td id=\"T_b3496_row5_col6\" class=\"data row5 col6\" >0.3773</td>\n",
              "      <td id=\"T_b3496_row5_col7\" class=\"data row5 col7\" >0.3775</td>\n",
              "      <td id=\"T_b3496_row5_col8\" class=\"data row5 col8\" >8.1880</td>\n",
              "    </tr>\n",
              "    <tr>\n",
              "      <th id=\"T_b3496_level0_row6\" class=\"row_heading level0 row6\" >knn</th>\n",
              "      <td id=\"T_b3496_row6_col0\" class=\"data row6 col0\" >K Neighbors Classifier</td>\n",
              "      <td id=\"T_b3496_row6_col1\" class=\"data row6 col1\" >0.3842</td>\n",
              "      <td id=\"T_b3496_row6_col2\" class=\"data row6 col2\" >0.7276</td>\n",
              "      <td id=\"T_b3496_row6_col3\" class=\"data row6 col3\" >0.3842</td>\n",
              "      <td id=\"T_b3496_row6_col4\" class=\"data row6 col4\" >0.4498</td>\n",
              "      <td id=\"T_b3496_row6_col5\" class=\"data row6 col5\" >0.3598</td>\n",
              "      <td id=\"T_b3496_row6_col6\" class=\"data row6 col6\" >0.2698</td>\n",
              "      <td id=\"T_b3496_row6_col7\" class=\"data row6 col7\" >0.2838</td>\n",
              "      <td id=\"T_b3496_row6_col8\" class=\"data row6 col8\" >6.0940</td>\n",
              "    </tr>\n",
              "    <tr>\n",
              "      <th id=\"T_b3496_level0_row7\" class=\"row_heading level0 row7\" >nb</th>\n",
              "      <td id=\"T_b3496_row7_col0\" class=\"data row7 col0\" >Naive Bayes</td>\n",
              "      <td id=\"T_b3496_row7_col1\" class=\"data row7 col1\" >0.3188</td>\n",
              "      <td id=\"T_b3496_row7_col2\" class=\"data row7 col2\" >0.6628</td>\n",
              "      <td id=\"T_b3496_row7_col3\" class=\"data row7 col3\" >0.3188</td>\n",
              "      <td id=\"T_b3496_row7_col4\" class=\"data row7 col4\" >0.3003</td>\n",
              "      <td id=\"T_b3496_row7_col5\" class=\"data row7 col5\" >0.3076</td>\n",
              "      <td id=\"T_b3496_row7_col6\" class=\"data row7 col6\" >0.2108</td>\n",
              "      <td id=\"T_b3496_row7_col7\" class=\"data row7 col7\" >0.2112</td>\n",
              "      <td id=\"T_b3496_row7_col8\" class=\"data row7 col8\" >3.3960</td>\n",
              "    </tr>\n",
              "    <tr>\n",
              "      <th id=\"T_b3496_level0_row8\" class=\"row_heading level0 row8\" >ada</th>\n",
              "      <td id=\"T_b3496_row8_col0\" class=\"data row8 col0\" >Ada Boost Classifier</td>\n",
              "      <td id=\"T_b3496_row8_col1\" class=\"data row8 col1\" >0.2831</td>\n",
              "      <td id=\"T_b3496_row8_col2\" class=\"data row8 col2\" >0.0000</td>\n",
              "      <td id=\"T_b3496_row8_col3\" class=\"data row8 col3\" >0.2831</td>\n",
              "      <td id=\"T_b3496_row8_col4\" class=\"data row8 col4\" >0.2039</td>\n",
              "      <td id=\"T_b3496_row8_col5\" class=\"data row8 col5\" >0.2063</td>\n",
              "      <td id=\"T_b3496_row8_col6\" class=\"data row8 col6\" >0.1478</td>\n",
              "      <td id=\"T_b3496_row8_col7\" class=\"data row8 col7\" >0.1727</td>\n",
              "      <td id=\"T_b3496_row8_col8\" class=\"data row8 col8\" >18.6840</td>\n",
              "    </tr>\n",
              "    <tr>\n",
              "      <th id=\"T_b3496_level0_row9\" class=\"row_heading level0 row9\" >dummy</th>\n",
              "      <td id=\"T_b3496_row9_col0\" class=\"data row9 col0\" >Dummy Classifier</td>\n",
              "      <td id=\"T_b3496_row9_col1\" class=\"data row9 col1\" >0.2111</td>\n",
              "      <td id=\"T_b3496_row9_col2\" class=\"data row9 col2\" >0.5000</td>\n",
              "      <td id=\"T_b3496_row9_col3\" class=\"data row9 col3\" >0.2111</td>\n",
              "      <td id=\"T_b3496_row9_col4\" class=\"data row9 col4\" >0.0446</td>\n",
              "      <td id=\"T_b3496_row9_col5\" class=\"data row9 col5\" >0.0736</td>\n",
              "      <td id=\"T_b3496_row9_col6\" class=\"data row9 col6\" >0.0000</td>\n",
              "      <td id=\"T_b3496_row9_col7\" class=\"data row9 col7\" >0.0000</td>\n",
              "      <td id=\"T_b3496_row9_col8\" class=\"data row9 col8\" >1.6720</td>\n",
              "    </tr>\n",
              "    <tr>\n",
              "      <th id=\"T_b3496_level0_row10\" class=\"row_heading level0 row10\" >qda</th>\n",
              "      <td id=\"T_b3496_row10_col0\" class=\"data row10 col0\" >Quadratic Discriminant Analysis</td>\n",
              "      <td id=\"T_b3496_row10_col1\" class=\"data row10 col1\" >0.1018</td>\n",
              "      <td id=\"T_b3496_row10_col2\" class=\"data row10 col2\" >0.0000</td>\n",
              "      <td id=\"T_b3496_row10_col3\" class=\"data row10 col3\" >0.1018</td>\n",
              "      <td id=\"T_b3496_row10_col4\" class=\"data row10 col4\" >0.1209</td>\n",
              "      <td id=\"T_b3496_row10_col5\" class=\"data row10 col5\" >0.1095</td>\n",
              "      <td id=\"T_b3496_row10_col6\" class=\"data row10 col6\" >-0.0080</td>\n",
              "      <td id=\"T_b3496_row10_col7\" class=\"data row10 col7\" >-0.0080</td>\n",
              "      <td id=\"T_b3496_row10_col8\" class=\"data row10 col8\" >12.4780</td>\n",
              "    </tr>\n",
              "    <tr>\n",
              "      <th id=\"T_b3496_level0_row11\" class=\"row_heading level0 row11\" >lda</th>\n",
              "      <td id=\"T_b3496_row11_col0\" class=\"data row11 col0\" >Linear Discriminant Analysis</td>\n",
              "      <td id=\"T_b3496_row11_col1\" class=\"data row11 col1\" >0.0942</td>\n",
              "      <td id=\"T_b3496_row11_col2\" class=\"data row11 col2\" >0.0000</td>\n",
              "      <td id=\"T_b3496_row11_col3\" class=\"data row11 col3\" >0.0942</td>\n",
              "      <td id=\"T_b3496_row11_col4\" class=\"data row11 col4\" >0.1942</td>\n",
              "      <td id=\"T_b3496_row11_col5\" class=\"data row11 col5\" >0.1071</td>\n",
              "      <td id=\"T_b3496_row11_col6\" class=\"data row11 col6\" >0.0369</td>\n",
              "      <td id=\"T_b3496_row11_col7\" class=\"data row11 col7\" >0.0385</td>\n",
              "      <td id=\"T_b3496_row11_col8\" class=\"data row11 col8\" >43.3120</td>\n",
              "    </tr>\n",
              "  </tbody>\n",
              "</table>\n"
            ]
          },
          "metadata": {}
        },
        {
          "output_type": "display_data",
          "data": {
            "text/plain": [
              "Processing:   0%|          | 0/51 [00:00<?, ?it/s]"
            ],
            "application/vnd.jupyter.widget-view+json": {
              "version_major": 2,
              "version_minor": 0,
              "model_id": "8d90e085094f412699b581c594045f8e"
            }
          },
          "metadata": {
            "application/vnd.jupyter.widget-view+json": {
              "colab": {
                "custom_widget_manager": {
                  "url": "https://ssl.gstatic.com/colaboratory-static/widgets/colab-cdn-widget-manager/2b70e893a8ba7c0f/manager.min.js"
                }
              }
            }
          }
        },
        {
          "output_type": "display_data",
          "data": {
            "text/plain": [
              "<IPython.core.display.HTML object>"
            ],
            "text/html": []
          },
          "metadata": {}
        }
      ],
      "source": [
        "best_models = compare_models(n_select=3, exclude=['gbc', 'xgboost', 'lightgbm', 'catboost'])"
      ]
    },
    {
      "cell_type": "markdown",
      "metadata": {
        "id": "j0fRkXDpwane"
      },
      "source": [
        "**Visualization**"
      ]
    },
    {
      "cell_type": "code",
      "execution_count": 17,
      "metadata": {
        "id": "aZ1uIBJ1wizY",
        "colab": {
          "base_uri": "https://localhost:8080/",
          "height": 1000
        },
        "outputId": "c67100ab-ca84-41e4-a0d7-c2d6ac439663"
      },
      "outputs": [
        {
          "output_type": "display_data",
          "data": {
            "text/plain": [
              "<IPython.core.display.HTML object>"
            ],
            "text/html": []
          },
          "metadata": {}
        },
        {
          "output_type": "display_data",
          "data": {
            "text/plain": [
              "<Figure size 800x550 with 1 Axes>"
            ],
            "image/png": "[encoded data removed]"
          },
          "metadata": {}
        },
        {
          "output_type": "display_data",
          "data": {
            "text/plain": [
              "<IPython.core.display.HTML object>"
            ],
            "text/html": []
          },
          "metadata": {}
        },
        {
          "output_type": "display_data",
          "data": {
            "text/plain": [
              "<Figure size 800x500 with 1 Axes>"
            ],
            "image/png": "[encoded data removed]"
          },
          "metadata": {}
        },
        {
          "output_type": "display_data",
          "data": {
            "text/plain": [
              "<IPython.core.display.HTML object>"
            ],
            "text/html": []
          },
          "metadata": {}
        },
        {
          "output_type": "display_data",
          "data": {
            "text/plain": [
              "<Figure size 800x550 with 2 Axes>"
            ],
            "image/png": "[encoded data removed]"
          },
          "metadata": {}
        }
      ],
      "source": [
        "plot_model(best_models[0], plot='confusion_matrix')\n",
        "plot_model(best_models[0], plot='feature')\n",
        "plot_model(best_models[0], plot='class_report')"
      ]
    },
    {
      "cell_type": "code",
      "execution_count": 15,
      "metadata": {
        "id": "uGLzg8cOsVik",
        "colab": {
          "base_uri": "https://localhost:8080/",
          "height": 691,
          "referenced_widgets": [
            "4bff2a8f83084da0905005f2bcdb73ef",
            "acb63a64b5934d909e8b4a3dc651e960",
            "16ac75a6cffa40cba62d0b7ddeafadf8",
            "a1739fb022454af7b9d1141ed491bd4b",
            "555695d0f70d4f38945dea871b8277a0",
            "db70e3ae79914d05a46b2c4887ca30eb",
            "40e2b95ae8324741a1a7d7c39daeb4e0"
          ]
        },
        "outputId": "cab4d2e3-8732-4fcb-9ed3-270c311dd412"
      },
      "outputs": [
        {
          "output_type": "display_data",
          "data": {
            "text/plain": [
              "interactive(children=(ToggleButtons(description='Plot Type:', icons=('',), options=(('Pipeline Plot', 'pipelin…"
            ],
            "application/vnd.jupyter.widget-view+json": {
              "version_major": 2,
              "version_minor": 0,
              "model_id": "4bff2a8f83084da0905005f2bcdb73ef"
            }
          },
          "metadata": {
            "application/vnd.jupyter.widget-view+json": {
              "colab": {
                "custom_widget_manager": {
                  "url": "https://ssl.gstatic.com/colaboratory-static/widgets/colab-cdn-widget-manager/2b70e893a8ba7c0f/manager.min.js"
                }
              }
            }
          }
        },
        {
          "output_type": "display_data",
          "data": {
            "text/plain": [
              "<pandas.io.formats.style.Styler at 0x7c3bff789fd0>"
            ],
            "text/html": [
              "<style type=\"text/css\">\n",
              "</style>\n",
              "<table id=\"T_7dee4\" class=\"dataframe\">\n",
              "  <thead>\n",
              "    <tr>\n",
              "      <th class=\"blank level0\" >&nbsp;</th>\n",
              "      <th id=\"T_7dee4_level0_col0\" class=\"col_heading level0 col0\" >Model</th>\n",
              "      <th id=\"T_7dee4_level0_col1\" class=\"col_heading level0 col1\" >Accuracy</th>\n",
              "      <th id=\"T_7dee4_level0_col2\" class=\"col_heading level0 col2\" >AUC</th>\n",
              "      <th id=\"T_7dee4_level0_col3\" class=\"col_heading level0 col3\" >Recall</th>\n",
              "      <th id=\"T_7dee4_level0_col4\" class=\"col_heading level0 col4\" >Prec.</th>\n",
              "      <th id=\"T_7dee4_level0_col5\" class=\"col_heading level0 col5\" >F1</th>\n",
              "      <th id=\"T_7dee4_level0_col6\" class=\"col_heading level0 col6\" >Kappa</th>\n",
              "      <th id=\"T_7dee4_level0_col7\" class=\"col_heading level0 col7\" >MCC</th>\n",
              "    </tr>\n",
              "  </thead>\n",
              "  <tbody>\n",
              "    <tr>\n",
              "      <th id=\"T_7dee4_level0_row0\" class=\"row_heading level0 row0\" >0</th>\n",
              "      <td id=\"T_7dee4_row0_col0\" class=\"data row0 col0\" >SVM - Linear Kernel</td>\n",
              "      <td id=\"T_7dee4_row0_col1\" class=\"data row0 col1\" >0.6546</td>\n",
              "      <td id=\"T_7dee4_row0_col2\" class=\"data row0 col2\" >0</td>\n",
              "      <td id=\"T_7dee4_row0_col3\" class=\"data row0 col3\" >0.6546</td>\n",
              "      <td id=\"T_7dee4_row0_col4\" class=\"data row0 col4\" >0.6522</td>\n",
              "      <td id=\"T_7dee4_row0_col5\" class=\"data row0 col5\" >0.6469</td>\n",
              "      <td id=\"T_7dee4_row0_col6\" class=\"data row0 col6\" >0.5990</td>\n",
              "      <td id=\"T_7dee4_row0_col7\" class=\"data row0 col7\" >0.5999</td>\n",
              "    </tr>\n",
              "  </tbody>\n",
              "</table>\n"
            ]
          },
          "metadata": {}
        },
        {
          "output_type": "execute_result",
          "data": {
            "text/plain": [
              "             0         1    2    3    4    5         6         7    8    9  \\\n",
              "4511  0.000000  0.000000  0.0  0.0  0.0  0.0  0.000000  0.000000  0.0  0.0   \n",
              "744   0.000000  0.000000  0.0  0.0  0.0  0.0  0.000000  0.000000  0.0  0.0   \n",
              "7533  0.000000  0.000000  0.0  0.0  0.0  0.0  0.042742  0.053959  0.0  0.0   \n",
              "876   0.000000  0.022471  0.0  0.0  0.0  0.0  0.000000  0.000000  0.0  0.0   \n",
              "701   0.000000  0.000000  0.0  0.0  0.0  0.0  0.000000  0.000000  0.0  0.0   \n",
              "...        ...       ...  ...  ...  ...  ...       ...       ...  ...  ...   \n",
              "1851  0.032796  0.000000  0.0  0.0  0.0  0.0  0.000000  0.000000  0.0  0.0   \n",
              "1625  0.000000  0.021445  0.0  0.0  0.0  0.0  0.000000  0.000000  0.0  0.0   \n",
              "6965  0.000000  0.030046  0.0  0.0  0.0  0.0  0.055418  0.000000  0.0  0.0   \n",
              "1     0.000000  0.025650  0.0  0.0  0.0  0.0  0.000000  0.000000  0.0  0.0   \n",
              "2189  0.000000  0.000000  0.0  0.0  0.0  0.0  0.041892  0.000000  0.0  0.0   \n",
              "\n",
              "      ...      4992  4993  4994  4995      4996      4997  4998      4999  \\\n",
              "4511  ...  0.000000   0.0   0.0   0.0  0.000000  0.000000   0.0  0.000000   \n",
              "744   ...  0.000000   0.0   0.0   0.0  0.000000  0.000000   0.0  0.000000   \n",
              "7533  ...  0.000000   0.0   0.0   0.0  0.000000  0.049476   0.0  0.000000   \n",
              "876   ...  0.000000   0.0   0.0   0.0  0.000000  0.000000   0.0  0.043746   \n",
              "701   ...  0.000000   0.0   0.0   0.0  0.000000  0.000000   0.0  0.000000   \n",
              "...   ...       ...   ...   ...   ...       ...       ...   ...       ...   \n",
              "1851  ...  0.000000   0.0   0.0   0.0  0.000000  0.000000   0.0  0.000000   \n",
              "1625  ...  0.024742   0.0   0.0   0.0  0.000000  0.000000   0.0  0.000000   \n",
              "6965  ...  0.069330   0.0   0.0   0.0  0.000000  0.000000   0.0  0.000000   \n",
              "1     ...  0.000000   0.0   0.0   0.0  0.000000  0.000000   0.0  0.000000   \n",
              "2189  ...  0.000000   0.0   0.0   0.0  0.041936  0.000000   0.0  0.000000   \n",
              "\n",
              "      target  prediction_label  \n",
              "4511       2                 2  \n",
              "744       15                 9  \n",
              "7533      11                11  \n",
              "876        9                 9  \n",
              "701        8                 8  \n",
              "...      ...               ...  \n",
              "1851       9                 9  \n",
              "1625       0                15  \n",
              "6965       3                 3  \n",
              "1          3                 3  \n",
              "2189       9                 9  \n",
              "\n",
              "[2603 rows x 5002 columns]"
            ],
            "text/html": [
              "\n",
              "  <div id=\"df-d83742a4-b85b-4316-b5ef-8df491587103\" class=\"colab-df-container\">\n",
              "    <div>\n",
              "<style scoped>\n",
              "    .dataframe tbody tr th:only-of-type {\n",
              "        vertical-align: middle;\n",
              "    }\n",
              "\n",
              "    .dataframe tbody tr th {\n",
              "        vertical-align: top;\n",
              "    }\n",
              "\n",
              "    .dataframe thead th {\n",
              "        text-align: right;\n",
              "    }\n",
              "</style>\n",
              "<table border=\"1\" class=\"dataframe\">\n",
              "  <thead>\n",
              "    <tr style=\"text-align: right;\">\n",
              "      <th></th>\n",
              "      <th>0</th>\n",
              "      <th>1</th>\n",
              "      <th>2</th>\n",
              "      <th>3</th>\n",
              "      <th>4</th>\n",
              "      <th>5</th>\n",
              "      <th>6</th>\n",
              "      <th>7</th>\n",
              "      <th>8</th>\n",
              "      <th>9</th>\n",
              "      <th>...</th>\n",
              "      <th>4992</th>\n",
              "      <th>4993</th>\n",
              "      <th>4994</th>\n",
              "      <th>4995</th>\n",
              "      <th>4996</th>\n",
              "      <th>4997</th>\n",
              "      <th>4998</th>\n",
              "      <th>4999</th>\n",
              "      <th>target</th>\n",
              "      <th>prediction_label</th>\n",
              "    </tr>\n",
              "  </thead>\n",
              "  <tbody>\n",
              "    <tr>\n",
              "      <th>4511</th>\n",
              "      <td>0.000000</td>\n",
              "      <td>0.000000</td>\n",
              "      <td>0.0</td>\n",
              "      <td>0.0</td>\n",
              "      <td>0.0</td>\n",
              "      <td>0.0</td>\n",
              "      <td>0.000000</td>\n",
              "      <td>0.000000</td>\n",
              "      <td>0.0</td>\n",
              "      <td>0.0</td>\n",
              "      <td>...</td>\n",
              "      <td>0.000000</td>\n",
              "      <td>0.0</td>\n",
              "      <td>0.0</td>\n",
              "      <td>0.0</td>\n",
              "      <td>0.000000</td>\n",
              "      <td>0.000000</td>\n",
              "      <td>0.0</td>\n",
              "      <td>0.000000</td>\n",
              "      <td>2</td>\n",
              "      <td>2</td>\n",
              "    </tr>\n",
              "    <tr>\n",
              "      <th>744</th>\n",
              "      <td>0.000000</td>\n",
              "      <td>0.000000</td>\n",
              "      <td>0.0</td>\n",
              "      <td>0.0</td>\n",
              "      <td>0.0</td>\n",
              "      <td>0.0</td>\n",
              "      <td>0.000000</td>\n",
              "      <td>0.000000</td>\n",
              "      <td>0.0</td>\n",
              "      <td>0.0</td>\n",
              "      <td>...</td>\n",
              "      <td>0.000000</td>\n",
              "      <td>0.0</td>\n",
              "      <td>0.0</td>\n",
              "      <td>0.0</td>\n",
              "      <td>0.000000</td>\n",
              "      <td>0.000000</td>\n",
              "      <td>0.0</td>\n",
              "      <td>0.000000</td>\n",
              "      <td>15</td>\n",
              "      <td>9</td>\n",
              "    </tr>\n",
              "    <tr>\n",
              "      <th>7533</th>\n",
              "      <td>0.000000</td>\n",
              "      <td>0.000000</td>\n",
              "      <td>0.0</td>\n",
              "      <td>0.0</td>\n",
              "      <td>0.0</td>\n",
              "      <td>0.0</td>\n",
              "      <td>0.042742</td>\n",
              "      <td>0.053959</td>\n",
              "      <td>0.0</td>\n",
              "      <td>0.0</td>\n",
              "      <td>...</td>\n",
              "      <td>0.000000</td>\n",
              "      <td>0.0</td>\n",
              "      <td>0.0</td>\n",
              "      <td>0.0</td>\n",
              "      <td>0.000000</td>\n",
              "      <td>0.049476</td>\n",
              "      <td>0.0</td>\n",
              "      <td>0.000000</td>\n",
              "      <td>11</td>\n",
              "      <td>11</td>\n",
              "    </tr>\n",
              "    <tr>\n",
              "      <th>876</th>\n",
              "      <td>0.000000</td>\n",
              "      <td>0.022471</td>\n",
              "      <td>0.0</td>\n",
              "      <td>0.0</td>\n",
              "      <td>0.0</td>\n",
              "      <td>0.0</td>\n",
              "      <td>0.000000</td>\n",
              "      <td>0.000000</td>\n",
              "      <td>0.0</td>\n",
              "      <td>0.0</td>\n",
              "      <td>...</td>\n",
              "      <td>0.000000</td>\n",
              "      <td>0.0</td>\n",
              "      <td>0.0</td>\n",
              "      <td>0.0</td>\n",
              "      <td>0.000000</td>\n",
              "      <td>0.000000</td>\n",
              "      <td>0.0</td>\n",
              "      <td>0.043746</td>\n",
              "      <td>9</td>\n",
              "      <td>9</td>\n",
              "    </tr>\n",
              "    <tr>\n",
              "      <th>701</th>\n",
              "      <td>0.000000</td>\n",
              "      <td>0.000000</td>\n",
              "      <td>0.0</td>\n",
              "      <td>0.0</td>\n",
              "      <td>0.0</td>\n",
              "      <td>0.0</td>\n",
              "      <td>0.000000</td>\n",
              "      <td>0.000000</td>\n",
              "      <td>0.0</td>\n",
              "      <td>0.0</td>\n",
              "      <td>...</td>\n",
              "      <td>0.000000</td>\n",
              "      <td>0.0</td>\n",
              "      <td>0.0</td>\n",
              "      <td>0.0</td>\n",
              "      <td>0.000000</td>\n",
              "      <td>0.000000</td>\n",
              "      <td>0.0</td>\n",
              "      <td>0.000000</td>\n",
              "      <td>8</td>\n",
              "      <td>8</td>\n",
              "    </tr>\n",
              "    <tr>\n",
              "      <th>...</th>\n",
              "      <td>...</td>\n",
              "      <td>...</td>\n",
              "      <td>...</td>\n",
              "      <td>...</td>\n",
              "      <td>...</td>\n",
              "      <td>...</td>\n",
              "      <td>...</td>\n",
              "      <td>...</td>\n",
              "      <td>...</td>\n",
              "      <td>...</td>\n",
              "      <td>...</td>\n",
              "      <td>...</td>\n",
              "      <td>...</td>\n",
              "      <td>...</td>\n",
              "      <td>...</td>\n",
              "      <td>...</td>\n",
              "      <td>...</td>\n",
              "      <td>...</td>\n",
              "      <td>...</td>\n",
              "      <td>...</td>\n",
              "      <td>...</td>\n",
              "    </tr>\n",
              "    <tr>\n",
              "      <th>1851</th>\n",
              "      <td>0.032796</td>\n",
              "      <td>0.000000</td>\n",
              "      <td>0.0</td>\n",
              "      <td>0.0</td>\n",
              "      <td>0.0</td>\n",
              "      <td>0.0</td>\n",
              "      <td>0.000000</td>\n",
              "      <td>0.000000</td>\n",
              "      <td>0.0</td>\n",
              "      <td>0.0</td>\n",
              "      <td>...</td>\n",
              "      <td>0.000000</td>\n",
              "      <td>0.0</td>\n",
              "      <td>0.0</td>\n",
              "      <td>0.0</td>\n",
              "      <td>0.000000</td>\n",
              "      <td>0.000000</td>\n",
              "      <td>0.0</td>\n",
              "      <td>0.000000</td>\n",
              "      <td>9</td>\n",
              "      <td>9</td>\n",
              "    </tr>\n",
              "    <tr>\n",
              "      <th>1625</th>\n",
              "      <td>0.000000</td>\n",
              "      <td>0.021445</td>\n",
              "      <td>0.0</td>\n",
              "      <td>0.0</td>\n",
              "      <td>0.0</td>\n",
              "      <td>0.0</td>\n",
              "      <td>0.000000</td>\n",
              "      <td>0.000000</td>\n",
              "      <td>0.0</td>\n",
              "      <td>0.0</td>\n",
              "      <td>...</td>\n",
              "      <td>0.024742</td>\n",
              "      <td>0.0</td>\n",
              "      <td>0.0</td>\n",
              "      <td>0.0</td>\n",
              "      <td>0.000000</td>\n",
              "      <td>0.000000</td>\n",
              "      <td>0.0</td>\n",
              "      <td>0.000000</td>\n",
              "      <td>0</td>\n",
              "      <td>15</td>\n",
              "    </tr>\n",
              "    <tr>\n",
              "      <th>6965</th>\n",
              "      <td>0.000000</td>\n",
              "      <td>0.030046</td>\n",
              "      <td>0.0</td>\n",
              "      <td>0.0</td>\n",
              "      <td>0.0</td>\n",
              "      <td>0.0</td>\n",
              "      <td>0.055418</td>\n",
              "      <td>0.000000</td>\n",
              "      <td>0.0</td>\n",
              "      <td>0.0</td>\n",
              "      <td>...</td>\n",
              "      <td>0.069330</td>\n",
              "      <td>0.0</td>\n",
              "      <td>0.0</td>\n",
              "      <td>0.0</td>\n",
              "      <td>0.000000</td>\n",
              "      <td>0.000000</td>\n",
              "      <td>0.0</td>\n",
              "      <td>0.000000</td>\n",
              "      <td>3</td>\n",
              "      <td>3</td>\n",
              "    </tr>\n",
              "    <tr>\n",
              "      <th>1</th>\n",
              "      <td>0.000000</td>\n",
              "      <td>0.025650</td>\n",
              "      <td>0.0</td>\n",
              "      <td>0.0</td>\n",
              "      <td>0.0</td>\n",
              "      <td>0.0</td>\n",
              "      <td>0.000000</td>\n",
              "      <td>0.000000</td>\n",
              "      <td>0.0</td>\n",
              "      <td>0.0</td>\n",
              "      <td>...</td>\n",
              "      <td>0.000000</td>\n",
              "      <td>0.0</td>\n",
              "      <td>0.0</td>\n",
              "      <td>0.0</td>\n",
              "      <td>0.000000</td>\n",
              "      <td>0.000000</td>\n",
              "      <td>0.0</td>\n",
              "      <td>0.000000</td>\n",
              "      <td>3</td>\n",
              "      <td>3</td>\n",
              "    </tr>\n",
              "    <tr>\n",
              "      <th>2189</th>\n",
              "      <td>0.000000</td>\n",
              "      <td>0.000000</td>\n",
              "      <td>0.0</td>\n",
              "      <td>0.0</td>\n",
              "      <td>0.0</td>\n",
              "      <td>0.0</td>\n",
              "      <td>0.041892</td>\n",
              "      <td>0.000000</td>\n",
              "      <td>0.0</td>\n",
              "      <td>0.0</td>\n",
              "      <td>...</td>\n",
              "      <td>0.000000</td>\n",
              "      <td>0.0</td>\n",
              "      <td>0.0</td>\n",
              "      <td>0.0</td>\n",
              "      <td>0.041936</td>\n",
              "      <td>0.000000</td>\n",
              "      <td>0.0</td>\n",
              "      <td>0.000000</td>\n",
              "      <td>9</td>\n",
              "      <td>9</td>\n",
              "    </tr>\n",
              "  </tbody>\n",
              "</table>\n",
              "<p>2603 rows × 5002 columns</p>\n",
              "</div>\n",
              "    <div class=\"colab-df-buttons\">\n",
              "\n",
              "  <div class=\"colab-df-container\">\n",
              "    <button class=\"colab-df-convert\" onclick=\"convertToInteractive('df-d83742a4-b85b-4316-b5ef-8df491587103')\"\n",
              "            title=\"Convert this dataframe to an interactive table.\"\n",
              "            style=\"display:none;\">\n",
              "\n",
              "  <svg xmlns=\"http://www.w3.org/2000/svg\" height=\"24px\" viewBox=\"0 -960 960 960\">\n",
              "    <path d=\"M120-120v-720h720v720H120Zm60-500h600v-160H180v160Zm220 220h160v-160H400v160Zm0 220h160v-160H400v160ZM180-400h160v-160H180v160Zm440 0h160v-160H620v160ZM180-180h160v-160H180v160Zm440 0h160v-160H620v160Z\"/>\n",
              "  </svg>\n",
              "    </button>\n",
              "\n",
              "  <style>\n",
              "    .colab-df-container {\n",
              "      display:flex;\n",
              "      gap: 12px;\n",
              "    }\n",
              "\n",
              "    .colab-df-convert {\n",
              "      background-color: #E8F0FE;\n",
              "      border: none;\n",
              "      border-radius: 50%;\n",
              "      cursor: pointer;\n",
              "      display: none;\n",
              "      fill: #1967D2;\n",
              "      height: 32px;\n",
              "      padding: 0 0 0 0;\n",
              "      width: 32px;\n",
              "    }\n",
              "\n",
              "    .colab-df-convert:hover {\n",
              "      background-color: #E2EBFA;\n",
              "      box-shadow: 0px 1px 2px rgba(60, 64, 67, 0.3), 0px 1px 3px 1px rgba(60, 64, 67, 0.15);\n",
              "      fill: #174EA6;\n",
              "    }\n",
              "\n",
              "    .colab-df-buttons div {\n",
              "      margin-bottom: 4px;\n",
              "    }\n",
              "\n",
              "    [theme=dark] .colab-df-convert {\n",
              "      background-color: #3B4455;\n",
              "      fill: #D2E3FC;\n",
              "    }\n",
              "\n",
              "    [theme=dark] .colab-df-convert:hover {\n",
              "      background-color: #434B5C;\n",
              "      box-shadow: 0px 1px 3px 1px rgba(0, 0, 0, 0.15);\n",
              "      filter: drop-shadow(0px 1px 2px rgba(0, 0, 0, 0.3));\n",
              "      fill: #FFFFFF;\n",
              "    }\n",
              "  </style>\n",
              "\n",
              "    <script>\n",
              "      const buttonEl =\n",
              "        document.querySelector('#df-d83742a4-b85b-4316-b5ef-8df491587103 button.colab-df-convert');\n",
              "      buttonEl.style.display =\n",
              "        google.colab.kernel.accessAllowed ? 'block' : 'none';\n",
              "\n",
              "      async function convertToInteractive(key) {\n",
              "        const element = document.querySelector('#df-d83742a4-b85b-4316-b5ef-8df491587103');\n",
              "        const dataTable =\n",
              "          await google.colab.kernel.invokeFunction('convertToInteractive',\n",
              "                                                    [key], {});\n",
              "        if (!dataTable) return;\n",
              "\n",
              "        const docLinkHtml = 'Like what you see? Visit the ' +\n",
              "          '<a target=\"_blank\" href=https://colab.research.google.com/notebooks/data_table.ipynb>data table notebook</a>'\n",
              "          + ' to learn more about interactive tables.';\n",
              "        element.innerHTML = '';\n",
              "        dataTable['output_type'] = 'display_data';\n",
              "        await google.colab.output.renderOutput(dataTable, element);\n",
              "        const docLink = document.createElement('div');\n",
              "        docLink.innerHTML = docLinkHtml;\n",
              "        element.appendChild(docLink);\n",
              "      }\n",
              "    </script>\n",
              "  </div>\n",
              "\n",
              "\n",
              "    <div id=\"df-533b269e-913b-46f0-ad46-5d2e16d173ba\">\n",
              "      <button class=\"colab-df-quickchart\" onclick=\"quickchart('df-533b269e-913b-46f0-ad46-5d2e16d173ba')\"\n",
              "                title=\"Suggest charts\"\n",
              "                style=\"display:none;\">\n",
              "\n",
              "<svg xmlns=\"http://www.w3.org/2000/svg\" height=\"24px\"viewBox=\"0 0 24 24\"\n",
              "     width=\"24px\">\n",
              "    <g>\n",
              "        <path d=\"M19 3H5c-1.1 0-2 .9-2 2v14c0 1.1.9 2 2 2h14c1.1 0 2-.9 2-2V5c0-1.1-.9-2-2-2zM9 17H7v-7h2v7zm4 0h-2V7h2v10zm4 0h-2v-4h2v4z\"/>\n",
              "    </g>\n",
              "</svg>\n",
              "      </button>\n",
              "\n",
              "<style>\n",
              "  .colab-df-quickchart {\n",
              "      --bg-color: #E8F0FE;\n",
              "      --fill-color: #1967D2;\n",
              "      --hover-bg-color: #E2EBFA;\n",
              "      --hover-fill-color: #174EA6;\n",
              "      --disabled-fill-color: #AAA;\n",
              "      --disabled-bg-color: #DDD;\n",
              "  }\n",
              "\n",
              "  [theme=dark] .colab-df-quickchart {\n",
              "      --bg-color: #3B4455;\n",
              "      --fill-color: #D2E3FC;\n",
              "      --hover-bg-color: #434B5C;\n",
              "      --hover-fill-color: #FFFFFF;\n",
              "      --disabled-bg-color: #3B4455;\n",
              "      --disabled-fill-color: #666;\n",
              "  }\n",
              "\n",
              "  .colab-df-quickchart {\n",
              "    background-color: var(--bg-color);\n",
              "    border: none;\n",
              "    border-radius: 50%;\n",
              "    cursor: pointer;\n",
              "    display: none;\n",
              "    fill: var(--fill-color);\n",
              "    height: 32px;\n",
              "    padding: 0;\n",
              "    width: 32px;\n",
              "  }\n",
              "\n",
              "  .colab-df-quickchart:hover {\n",
              "    background-color: var(--hover-bg-color);\n",
              "    box-shadow: 0 1px 2px rgba(60, 64, 67, 0.3), 0 1px 3px 1px rgba(60, 64, 67, 0.15);\n",
              "    fill: var(--button-hover-fill-color);\n",
              "  }\n",
              "\n",
              "  .colab-df-quickchart-complete:disabled,\n",
              "  .colab-df-quickchart-complete:disabled:hover {\n",
              "    background-color: var(--disabled-bg-color);\n",
              "    fill: var(--disabled-fill-color);\n",
              "    box-shadow: none;\n",
              "  }\n",
              "\n",
              "  .colab-df-spinner {\n",
              "    border: 2px solid var(--fill-color);\n",
              "    border-color: transparent;\n",
              "    border-bottom-color: var(--fill-color);\n",
              "    animation:\n",
              "      spin 1s steps(1) infinite;\n",
              "  }\n",
              "\n",
              "  @keyframes spin {\n",
              "    0% {\n",
              "      border-color: transparent;\n",
              "      border-bottom-color: var(--fill-color);\n",
              "      border-left-color: var(--fill-color);\n",
              "    }\n",
              "    20% {\n",
              "      border-color: transparent;\n",
              "      border-left-color: var(--fill-color);\n",
              "      border-top-color: var(--fill-color);\n",
              "    }\n",
              "    30% {\n",
              "      border-color: transparent;\n",
              "      border-left-color: var(--fill-color);\n",
              "      border-top-color: var(--fill-color);\n",
              "      border-right-color: var(--fill-color);\n",
              "    }\n",
              "    40% {\n",
              "      border-color: transparent;\n",
              "      border-right-color: var(--fill-color);\n",
              "      border-top-color: var(--fill-color);\n",
              "    }\n",
              "    60% {\n",
              "      border-color: transparent;\n",
              "      border-right-color: var(--fill-color);\n",
              "    }\n",
              "    80% {\n",
              "      border-color: transparent;\n",
              "      border-right-color: var(--fill-color);\n",
              "      border-bottom-color: var(--fill-color);\n",
              "    }\n",
              "    90% {\n",
              "      border-color: transparent;\n",
              "      border-bottom-color: var(--fill-color);\n",
              "    }\n",
              "  }\n",
              "</style>\n",
              "\n",
              "      <script>\n",
              "        async function quickchart(key) {\n",
              "          const quickchartButtonEl =\n",
              "            document.querySelector('#' + key + ' button');\n",
              "          quickchartButtonEl.disabled = true;  // To prevent multiple clicks.\n",
              "          quickchartButtonEl.classList.add('colab-df-spinner');\n",
              "          try {\n",
              "            const charts = await google.colab.kernel.invokeFunction(\n",
              "                'suggestCharts', [key], {});\n",
              "          } catch (error) {\n",
              "            console.error('Error during call to suggestCharts:', error);\n",
              "          }\n",
              "          quickchartButtonEl.classList.remove('colab-df-spinner');\n",
              "          quickchartButtonEl.classList.add('colab-df-quickchart-complete');\n",
              "        }\n",
              "        (() => {\n",
              "          let quickchartButtonEl =\n",
              "            document.querySelector('#df-533b269e-913b-46f0-ad46-5d2e16d173ba button');\n",
              "          quickchartButtonEl.style.display =\n",
              "            google.colab.kernel.accessAllowed ? 'block' : 'none';\n",
              "        })();\n",
              "      </script>\n",
              "    </div>\n",
              "\n",
              "    </div>\n",
              "  </div>\n"
            ],
            "application/vnd.google.colaboratory.intrinsic+json": {
              "type": "dataframe"
            }
          },
          "metadata": {},
          "execution_count": 15
        }
      ],
      "source": [
        "evaluate_model(best_models[0])\n",
        "predict_model(best_models[0])"
      ]
    },
    {
      "cell_type": "code",
      "execution_count": 21,
      "metadata": {
        "id": "ZBuT8q6asVf_",
        "colab": {
          "base_uri": "https://localhost:8080/",
          "height": 311
        },
        "outputId": "21d5f131-3ba9-4b9f-d70f-ef5d582120e3"
      },
      "outputs": [
        {
          "output_type": "stream",
          "name": "stdout",
          "text": [
            "Model 1: SGDClassifier\n"
          ]
        },
        {
          "output_type": "display_data",
          "data": {
            "text/plain": [
              "<pandas.io.formats.style.Styler at 0x7c3c15157790>"
            ],
            "text/html": [
              "<style type=\"text/css\">\n",
              "</style>\n",
              "<table id=\"T_84638\" class=\"dataframe\">\n",
              "  <thead>\n",
              "    <tr>\n",
              "      <th class=\"blank level0\" >&nbsp;</th>\n",
              "      <th id=\"T_84638_level0_col0\" class=\"col_heading level0 col0\" >Model</th>\n",
              "      <th id=\"T_84638_level0_col1\" class=\"col_heading level0 col1\" >Accuracy</th>\n",
              "      <th id=\"T_84638_level0_col2\" class=\"col_heading level0 col2\" >AUC</th>\n",
              "      <th id=\"T_84638_level0_col3\" class=\"col_heading level0 col3\" >Recall</th>\n",
              "      <th id=\"T_84638_level0_col4\" class=\"col_heading level0 col4\" >Prec.</th>\n",
              "      <th id=\"T_84638_level0_col5\" class=\"col_heading level0 col5\" >F1</th>\n",
              "      <th id=\"T_84638_level0_col6\" class=\"col_heading level0 col6\" >Kappa</th>\n",
              "      <th id=\"T_84638_level0_col7\" class=\"col_heading level0 col7\" >MCC</th>\n",
              "    </tr>\n",
              "  </thead>\n",
              "  <tbody>\n",
              "    <tr>\n",
              "      <th id=\"T_84638_level0_row0\" class=\"row_heading level0 row0\" >0</th>\n",
              "      <td id=\"T_84638_row0_col0\" class=\"data row0 col0\" >SVM - Linear Kernel</td>\n",
              "      <td id=\"T_84638_row0_col1\" class=\"data row0 col1\" >0.6546</td>\n",
              "      <td id=\"T_84638_row0_col2\" class=\"data row0 col2\" >0</td>\n",
              "      <td id=\"T_84638_row0_col3\" class=\"data row0 col3\" >0.6546</td>\n",
              "      <td id=\"T_84638_row0_col4\" class=\"data row0 col4\" >0.6522</td>\n",
              "      <td id=\"T_84638_row0_col5\" class=\"data row0 col5\" >0.6469</td>\n",
              "      <td id=\"T_84638_row0_col6\" class=\"data row0 col6\" >0.5990</td>\n",
              "      <td id=\"T_84638_row0_col7\" class=\"data row0 col7\" >0.5999</td>\n",
              "    </tr>\n",
              "  </tbody>\n",
              "</table>\n"
            ]
          },
          "metadata": {}
        },
        {
          "output_type": "stream",
          "name": "stdout",
          "text": [
            "Accuracy: 0.6546\n",
            "Model 2: RidgeClassifier\n"
          ]
        },
        {
          "output_type": "display_data",
          "data": {
            "text/plain": [
              "<pandas.io.formats.style.Styler at 0x7c3bf0a0d5d0>"
            ],
            "text/html": [
              "<style type=\"text/css\">\n",
              "</style>\n",
              "<table id=\"T_71f4e\" class=\"dataframe\">\n",
              "  <thead>\n",
              "    <tr>\n",
              "      <th class=\"blank level0\" >&nbsp;</th>\n",
              "      <th id=\"T_71f4e_level0_col0\" class=\"col_heading level0 col0\" >Model</th>\n",
              "      <th id=\"T_71f4e_level0_col1\" class=\"col_heading level0 col1\" >Accuracy</th>\n",
              "      <th id=\"T_71f4e_level0_col2\" class=\"col_heading level0 col2\" >AUC</th>\n",
              "      <th id=\"T_71f4e_level0_col3\" class=\"col_heading level0 col3\" >Recall</th>\n",
              "      <th id=\"T_71f4e_level0_col4\" class=\"col_heading level0 col4\" >Prec.</th>\n",
              "      <th id=\"T_71f4e_level0_col5\" class=\"col_heading level0 col5\" >F1</th>\n",
              "      <th id=\"T_71f4e_level0_col6\" class=\"col_heading level0 col6\" >Kappa</th>\n",
              "      <th id=\"T_71f4e_level0_col7\" class=\"col_heading level0 col7\" >MCC</th>\n",
              "    </tr>\n",
              "  </thead>\n",
              "  <tbody>\n",
              "    <tr>\n",
              "      <th id=\"T_71f4e_level0_row0\" class=\"row_heading level0 row0\" >0</th>\n",
              "      <td id=\"T_71f4e_row0_col0\" class=\"data row0 col0\" >Ridge Classifier</td>\n",
              "      <td id=\"T_71f4e_row0_col1\" class=\"data row0 col1\" >0.6396</td>\n",
              "      <td id=\"T_71f4e_row0_col2\" class=\"data row0 col2\" >0</td>\n",
              "      <td id=\"T_71f4e_row0_col3\" class=\"data row0 col3\" >0.6396</td>\n",
              "      <td id=\"T_71f4e_row0_col4\" class=\"data row0 col4\" >0.6472</td>\n",
              "      <td id=\"T_71f4e_row0_col5\" class=\"data row0 col5\" >0.6286</td>\n",
              "      <td id=\"T_71f4e_row0_col6\" class=\"data row0 col6\" >0.5784</td>\n",
              "      <td id=\"T_71f4e_row0_col7\" class=\"data row0 col7\" >0.5805</td>\n",
              "    </tr>\n",
              "  </tbody>\n",
              "</table>\n"
            ]
          },
          "metadata": {}
        },
        {
          "output_type": "stream",
          "name": "stdout",
          "text": [
            "Accuracy: 0.6396\n",
            "Model 3: LogisticRegression\n"
          ]
        },
        {
          "output_type": "display_data",
          "data": {
            "text/plain": [
              "<pandas.io.formats.style.Styler at 0x7c3bfefd76d0>"
            ],
            "text/html": [
              "<style type=\"text/css\">\n",
              "</style>\n",
              "<table id=\"T_5f668\" class=\"dataframe\">\n",
              "  <thead>\n",
              "    <tr>\n",
              "      <th class=\"blank level0\" >&nbsp;</th>\n",
              "      <th id=\"T_5f668_level0_col0\" class=\"col_heading level0 col0\" >Model</th>\n",
              "      <th id=\"T_5f668_level0_col1\" class=\"col_heading level0 col1\" >Accuracy</th>\n",
              "      <th id=\"T_5f668_level0_col2\" class=\"col_heading level0 col2\" >AUC</th>\n",
              "      <th id=\"T_5f668_level0_col3\" class=\"col_heading level0 col3\" >Recall</th>\n",
              "      <th id=\"T_5f668_level0_col4\" class=\"col_heading level0 col4\" >Prec.</th>\n",
              "      <th id=\"T_5f668_level0_col5\" class=\"col_heading level0 col5\" >F1</th>\n",
              "      <th id=\"T_5f668_level0_col6\" class=\"col_heading level0 col6\" >Kappa</th>\n",
              "      <th id=\"T_5f668_level0_col7\" class=\"col_heading level0 col7\" >MCC</th>\n",
              "    </tr>\n",
              "  </thead>\n",
              "  <tbody>\n",
              "    <tr>\n",
              "      <th id=\"T_5f668_level0_row0\" class=\"row_heading level0 row0\" >0</th>\n",
              "      <td id=\"T_5f668_row0_col0\" class=\"data row0 col0\" >Logistic Regression</td>\n",
              "      <td id=\"T_5f668_row0_col1\" class=\"data row0 col1\" >0.6393</td>\n",
              "      <td id=\"T_5f668_row0_col2\" class=\"data row0 col2\" >0.9255</td>\n",
              "      <td id=\"T_5f668_row0_col3\" class=\"data row0 col3\" >0.6393</td>\n",
              "      <td id=\"T_5f668_row0_col4\" class=\"data row0 col4\" >0.6410</td>\n",
              "      <td id=\"T_5f668_row0_col5\" class=\"data row0 col5\" >0.6088</td>\n",
              "      <td id=\"T_5f668_row0_col6\" class=\"data row0 col6\" >0.5735</td>\n",
              "      <td id=\"T_5f668_row0_col7\" class=\"data row0 col7\" >0.5788</td>\n",
              "    </tr>\n",
              "  </tbody>\n",
              "</table>\n"
            ]
          },
          "metadata": {}
        },
        {
          "output_type": "stream",
          "name": "stdout",
          "text": [
            "Accuracy: 0.6393\n"
          ]
        }
      ],
      "source": [
        "for i, model in enumerate(best_models):\n",
        "    print(f\"Model {i+1}: {model.__class__.__name__}\")\n",
        "    predictions = predict_model(model)\n",
        "\n",
        "    result = pull()\n",
        "    print(\"Accuracy:\", result.loc[0, 'Accuracy'])"
      ]
    }
  ],
  "metadata": {
    "accelerator": "GPU",
    "colab": {
      "gpuType": "T4",
      "provenance": [],
      "include_colab_link": true
    },
    "kernelspec": {
      "display_name": "Python 3",
      "name": "python3"
    },
    "language_info": {
      "name": "python"
    },
    "widgets": {
      "application/vnd.jupyter.widget-state+json": {
        "8d90e085094f412699b581c594045f8e": {
          "model_module": "@jupyter-widgets/controls",
          "model_name": "HBoxModel",
          "model_module_version": "1.5.0",
          "state": {
            "_dom_classes": [],
            "_model_module": "@jupyter-widgets/controls",
            "_model_module_version": "1.5.0",
            "_model_name": "HBoxModel",
            "_view_count": null,
            "_view_module": "@jupyter-widgets/controls",
            "_view_module_version": "1.5.0",
            "_view_name": "HBoxView",
            "box_style": "",
            "children": [
              "IPY_MODEL_332c9abeaae54414ad7c531dd2745ac4",
              "IPY_MODEL_edc6228f2b91431cae83ab70fb9783af",
              "IPY_MODEL_a2e4b5ed9ad04c2696159900e63f105f"
            ],
            "layout": "IPY_MODEL_292509dd4eff47c397eb70bdfa6c9d42"
          }
        },
        "332c9abeaae54414ad7c531dd2745ac4": {
          "model_module": "@jupyter-widgets/controls",
          "model_name": "HTMLModel",
          "model_module_version": "1.5.0",
          "state": {
            "_dom_classes": [],
            "_model_module": "@jupyter-widgets/controls",
            "_model_module_version": "1.5.0",
            "_model_name": "HTMLModel",
            "_view_count": null,
            "_view_module": "@jupyter-widgets/controls",
            "_view_module_version": "1.5.0",
            "_view_name": "HTMLView",
            "description": "",
            "description_tooltip": null,
            "layout": "IPY_MODEL_3aaf4f8491df422d869f1d02d3cfe338",
            "placeholder": "​",
            "style": "IPY_MODEL_2e7a80607ead47f9b5e0343e453b56e5",
            "value": "Processing: 100%"
          }
        },
        "edc6228f2b91431cae83ab70fb9783af": {
          "model_module": "@jupyter-widgets/controls",
          "model_name": "FloatProgressModel",
          "model_module_version": "1.5.0",
          "state": {
            "_dom_classes": [],
            "_model_module": "@jupyter-widgets/controls",
            "_model_module_version": "1.5.0",
            "_model_name": "FloatProgressModel",
            "_view_count": null,
            "_view_module": "@jupyter-widgets/controls",
            "_view_module_version": "1.5.0",
            "_view_name": "ProgressView",
            "bar_style": "",
            "description": "",
            "description_tooltip": null,
            "layout": "IPY_MODEL_61368999d264410b8196b615bddc0a55",
            "max": 51,
            "min": 0,
            "orientation": "horizontal",
            "style": "IPY_MODEL_5258fc2a80c14a6da0285f6f61d79d5e",
            "value": 51
          }
        },
        "a2e4b5ed9ad04c2696159900e63f105f": {
          "model_module": "@jupyter-widgets/controls",
          "model_name": "HTMLModel",
          "model_module_version": "1.5.0",
          "state": {
            "_dom_classes": [],
            "_model_module": "@jupyter-widgets/controls",
            "_model_module_version": "1.5.0",
            "_model_name": "HTMLModel",
            "_view_count": null,
            "_view_module": "@jupyter-widgets/controls",
            "_view_module_version": "1.5.0",
            "_view_name": "HTMLView",
            "description": "",
            "description_tooltip": null,
            "layout": "IPY_MODEL_25bdbd000eb4497fa828da59845f8593",
            "placeholder": "​",
            "style": "IPY_MODEL_ede8fb8eb6a441fcbffad077aaf97a08",
            "value": " 51/51 [12:29&lt;00:00, 11.49s/it]"
          }
        },
        "292509dd4eff47c397eb70bdfa6c9d42": {
          "model_module": "@jupyter-widgets/base",
          "model_name": "LayoutModel",
          "model_module_version": "1.2.0",
          "state": {
            "_model_module": "@jupyter-widgets/base",
            "_model_module_version": "1.2.0",
            "_model_name": "LayoutModel",
            "_view_count": null,
            "_view_module": "@jupyter-widgets/base",
            "_view_module_version": "1.2.0",
            "_view_name": "LayoutView",
            "align_content": null,
            "align_items": null,
            "align_self": null,
            "border": null,
            "bottom": null,
            "display": null,
            "flex": null,
            "flex_flow": null,
            "grid_area": null,
            "grid_auto_columns": null,
            "grid_auto_flow": null,
            "grid_auto_rows": null,
            "grid_column": null,
            "grid_gap": null,
            "grid_row": null,
            "grid_template_areas": null,
            "grid_template_columns": null,
            "grid_template_rows": null,
            "height": null,
            "justify_content": null,
            "justify_items": null,
            "left": null,
            "margin": null,
            "max_height": null,
            "max_width": null,
            "min_height": null,
            "min_width": null,
            "object_fit": null,
            "object_position": null,
            "order": null,
            "overflow": null,
            "overflow_x": null,
            "overflow_y": null,
            "padding": null,
            "right": null,
            "top": null,
            "visibility": "hidden",
            "width": null
          }
        },
        "3aaf4f8491df422d869f1d02d3cfe338": {
          "model_module": "@jupyter-widgets/base",
          "model_name": "LayoutModel",
          "model_module_version": "1.2.0",
          "state": {
            "_model_module": "@jupyter-widgets/base",
            "_model_module_version": "1.2.0",
            "_model_name": "LayoutModel",
            "_view_count": null,
            "_view_module": "@jupyter-widgets/base",
            "_view_module_version": "1.2.0",
            "_view_name": "LayoutView",
            "align_content": null,
            "align_items": null,
            "align_self": null,
            "border": null,
            "bottom": null,
            "display": null,
            "flex": null,
            "flex_flow": null,
            "grid_area": null,
            "grid_auto_columns": null,
            "grid_auto_flow": null,
            "grid_auto_rows": null,
            "grid_column": null,
            "grid_gap": null,
            "grid_row": null,
            "grid_template_areas": null,
            "grid_template_columns": null,
            "grid_template_rows": null,
            "height": null,
            "justify_content": null,
            "justify_items": null,
            "left": null,
            "margin": null,
            "max_height": null,
            "max_width": null,
            "min_height": null,
            "min_width": null,
            "object_fit": null,
            "object_position": null,
            "order": null,
            "overflow": null,
            "overflow_x": null,
            "overflow_y": null,
            "padding": null,
            "right": null,
            "top": null,
            "visibility": null,
            "width": null
          }
        },
        "2e7a80607ead47f9b5e0343e453b56e5": {
          "model_module": "@jupyter-widgets/controls",
          "model_name": "DescriptionStyleModel",
          "model_module_version": "1.5.0",
          "state": {
            "_model_module": "@jupyter-widgets/controls",
            "_model_module_version": "1.5.0",
            "_model_name": "DescriptionStyleModel",
            "_view_count": null,
            "_view_module": "@jupyter-widgets/base",
            "_view_module_version": "1.2.0",
            "_view_name": "StyleView",
            "description_width": ""
          }
        },
        "61368999d264410b8196b615bddc0a55": {
          "model_module": "@jupyter-widgets/base",
          "model_name": "LayoutModel",
          "model_module_version": "1.2.0",
          "state": {
            "_model_module": "@jupyter-widgets/base",
            "_model_module_version": "1.2.0",
            "_model_name": "LayoutModel",
            "_view_count": null,
            "_view_module": "@jupyter-widgets/base",
            "_view_module_version": "1.2.0",
            "_view_name": "LayoutView",
            "align_content": null,
            "align_items": null,
            "align_self": null,
            "border": null,
            "bottom": null,
            "display": null,
            "flex": null,
            "flex_flow": null,
            "grid_area": null,
            "grid_auto_columns": null,
            "grid_auto_flow": null,
            "grid_auto_rows": null,
            "grid_column": null,
            "grid_gap": null,
            "grid_row": null,
            "grid_template_areas": null,
            "grid_template_columns": null,
            "grid_template_rows": null,
            "height": null,
            "justify_content": null,
            "justify_items": null,
            "left": null,
            "margin": null,
            "max_height": null,
            "max_width": null,
            "min_height": null,
            "min_width": null,
            "object_fit": null,
            "object_position": null,
            "order": null,
            "overflow": null,
            "overflow_x": null,
            "overflow_y": null,
            "padding": null,
            "right": null,
            "top": null,
            "visibility": null,
            "width": null
          }
        },
        "5258fc2a80c14a6da0285f6f61d79d5e": {
          "model_module": "@jupyter-widgets/controls",
          "model_name": "ProgressStyleModel",
          "model_module_version": "1.5.0",
          "state": {
            "_model_module": "@jupyter-widgets/controls",
            "_model_module_version": "1.5.0",
            "_model_name": "ProgressStyleModel",
            "_view_count": null,
            "_view_module": "@jupyter-widgets/base",
            "_view_module_version": "1.2.0",
            "_view_name": "StyleView",
            "bar_color": null,
            "description_width": ""
          }
        },
        "25bdbd000eb4497fa828da59845f8593": {
          "model_module": "@jupyter-widgets/base",
          "model_name": "LayoutModel",
          "model_module_version": "1.2.0",
          "state": {
            "_model_module": "@jupyter-widgets/base",
            "_model_module_version": "1.2.0",
            "_model_name": "LayoutModel",
            "_view_count": null,
            "_view_module": "@jupyter-widgets/base",
            "_view_module_version": "1.2.0",
            "_view_name": "LayoutView",
            "align_content": null,
            "align_items": null,
            "align_self": null,
            "border": null,
            "bottom": null,
            "display": null,
            "flex": null,
            "flex_flow": null,
            "grid_area": null,
            "grid_auto_columns": null,
            "grid_auto_flow": null,
            "grid_auto_rows": null,
            "grid_column": null,
            "grid_gap": null,
            "grid_row": null,
            "grid_template_areas": null,
            "grid_template_columns": null,
            "grid_template_rows": null,
            "height": null,
            "justify_content": null,
            "justify_items": null,
            "left": null,
            "margin": null,
            "max_height": null,
            "max_width": null,
            "min_height": null,
            "min_width": null,
            "object_fit": null,
            "object_position": null,
            "order": null,
            "overflow": null,
            "overflow_x": null,
            "overflow_y": null,
            "padding": null,
            "right": null,
            "top": null,
            "visibility": null,
            "width": null
          }
        },
        "ede8fb8eb6a441fcbffad077aaf97a08": {
          "model_module": "@jupyter-widgets/controls",
          "model_name": "DescriptionStyleModel",
          "model_module_version": "1.5.0",
          "state": {
            "_model_module": "@jupyter-widgets/controls",
            "_model_module_version": "1.5.0",
            "_model_name": "DescriptionStyleModel",
            "_view_count": null,
            "_view_module": "@jupyter-widgets/base",
            "_view_module_version": "1.2.0",
            "_view_name": "StyleView",
            "description_width": ""
          }
        },
        "4bff2a8f83084da0905005f2bcdb73ef": {
          "model_module": "@jupyter-widgets/controls",
          "model_name": "VBoxModel",
          "model_module_version": "1.5.0",
          "state": {
            "_dom_classes": [
              "widget-interact"
            ],
            "_model_module": "@jupyter-widgets/controls",
            "_model_module_version": "1.5.0",
            "_model_name": "VBoxModel",
            "_view_count": null,
            "_view_module": "@jupyter-widgets/controls",
            "_view_module_version": "1.5.0",
            "_view_name": "VBoxView",
            "box_style": "",
            "children": [
              "IPY_MODEL_acb63a64b5934d909e8b4a3dc651e960",
              "IPY_MODEL_16ac75a6cffa40cba62d0b7ddeafadf8"
            ],
            "layout": "IPY_MODEL_a1739fb022454af7b9d1141ed491bd4b"
          }
        },
        "acb63a64b5934d909e8b4a3dc651e960": {
          "model_module": "@jupyter-widgets/controls",
          "model_name": "ToggleButtonsModel",
          "model_module_version": "1.5.0",
          "state": {
            "_dom_classes": [],
            "_model_module": "@jupyter-widgets/controls",
            "_model_module_version": "1.5.0",
            "_model_name": "ToggleButtonsModel",
            "_options_labels": [
              "Pipeline Plot",
              "Hyperparameters",
              "AUC",
              "Confusion Matrix",
              "Threshold",
              "Precision Recall",
              "Prediction Error",
              "Class Report",
              "Feature Selection",
              "Learning Curve",
              "Manifold Learning",
              "Calibration Curve",
              "Validation Curve",
              "Dimensions",
              "Feature Importance",
              "Feature Importance (All)",
              "Decision Boundary",
              "Lift Chart",
              "Gain Chart",
              "Decision Tree",
              "KS Statistic Plot"
            ],
            "_view_count": null,
            "_view_module": "@jupyter-widgets/controls",
            "_view_module_version": "1.5.0",
            "_view_name": "ToggleButtonsView",
            "button_style": "",
            "description": "Plot Type:",
            "description_tooltip": null,
            "disabled": false,
            "icons": [
              ""
            ],
            "index": 0,
            "layout": "IPY_MODEL_555695d0f70d4f38945dea871b8277a0",
            "style": "IPY_MODEL_db70e3ae79914d05a46b2c4887ca30eb",
            "tooltips": []
          }
        },
        "16ac75a6cffa40cba62d0b7ddeafadf8": {
          "model_module": "@jupyter-widgets/output",
          "model_name": "OutputModel",
          "model_module_version": "1.0.0",
          "state": {
            "_dom_classes": [],
            "_model_module": "@jupyter-widgets/output",
            "_model_module_version": "1.0.0",
            "_model_name": "OutputModel",
            "_view_count": null,
            "_view_module": "@jupyter-widgets/output",
            "_view_module_version": "1.0.0",
            "_view_name": "OutputView",
            "layout": "IPY_MODEL_40e2b95ae8324741a1a7d7c39daeb4e0",
            "msg_id": "",
            "outputs": [
              {
                "output_type": "display_data",
                "data": {
                  "text/plain": "<Figure size 1200x600 with 1 Axes>",
                  "image/png": "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\n"
                },
                "metadata": {}
              }
            ]
          }
        },
        "a1739fb022454af7b9d1141ed491bd4b": {
          "model_module": "@jupyter-widgets/base",
          "model_name": "LayoutModel",
          "model_module_version": "1.2.0",
          "state": {
            "_model_module": "@jupyter-widgets/base",
            "_model_module_version": "1.2.0",
            "_model_name": "LayoutModel",
            "_view_count": null,
            "_view_module": "@jupyter-widgets/base",
            "_view_module_version": "1.2.0",
            "_view_name": "LayoutView",
            "align_content": null,
            "align_items": null,
            "align_self": null,
            "border": null,
            "bottom": null,
            "display": null,
            "flex": null,
            "flex_flow": null,
            "grid_area": null,
            "grid_auto_columns": null,
            "grid_auto_flow": null,
            "grid_auto_rows": null,
            "grid_column": null,
            "grid_gap": null,
            "grid_row": null,
            "grid_template_areas": null,
            "grid_template_columns": null,
            "grid_template_rows": null,
            "height": null,
            "justify_content": null,
            "justify_items": null,
            "left": null,
            "margin": null,
            "max_height": null,
            "max_width": null,
            "min_height": null,
            "min_width": null,
            "object_fit": null,
            "object_position": null,
            "order": null,
            "overflow": null,
            "overflow_x": null,
            "overflow_y": null,
            "padding": null,
            "right": null,
            "top": null,
            "visibility": null,
            "width": null
          }
        },
        "555695d0f70d4f38945dea871b8277a0": {
          "model_module": "@jupyter-widgets/base",
          "model_name": "LayoutModel",
          "model_module_version": "1.2.0",
          "state": {
            "_model_module": "@jupyter-widgets/base",
            "_model_module_version": "1.2.0",
            "_model_name": "LayoutModel",
            "_view_count": null,
            "_view_module": "@jupyter-widgets/base",
            "_view_module_version": "1.2.0",
            "_view_name": "LayoutView",
            "align_content": null,
            "align_items": null,
            "align_self": null,
            "border": null,
            "bottom": null,
            "display": null,
            "flex": null,
            "flex_flow": null,
            "grid_area": null,
            "grid_auto_columns": null,
            "grid_auto_flow": null,
            "grid_auto_rows": null,
            "grid_column": null,
            "grid_gap": null,
            "grid_row": null,
            "grid_template_areas": null,
            "grid_template_columns": null,
            "grid_template_rows": null,
            "height": null,
            "justify_content": null,
            "justify_items": null,
            "left": null,
            "margin": null,
            "max_height": null,
            "max_width": null,
            "min_height": null,
            "min_width": null,
            "object_fit": null,
            "object_position": null,
            "order": null,
            "overflow": null,
            "overflow_x": null,
            "overflow_y": null,
            "padding": null,
            "right": null,
            "top": null,
            "visibility": null,
            "width": null
          }
        },
        "db70e3ae79914d05a46b2c4887ca30eb": {
          "model_module": "@jupyter-widgets/controls",
          "model_name": "ToggleButtonsStyleModel",
          "model_module_version": "1.5.0",
          "state": {
            "_model_module": "@jupyter-widgets/controls",
            "_model_module_version": "1.5.0",
            "_model_name": "ToggleButtonsStyleModel",
            "_view_count": null,
            "_view_module": "@jupyter-widgets/base",
            "_view_module_version": "1.2.0",
            "_view_name": "StyleView",
            "button_width": "",
            "description_width": "",
            "font_weight": ""
          }
        },
        "40e2b95ae8324741a1a7d7c39daeb4e0": {
          "model_module": "@jupyter-widgets/base",
          "model_name": "LayoutModel",
          "model_module_version": "1.2.0",
          "state": {
            "_model_module": "@jupyter-widgets/base",
            "_model_module_version": "1.2.0",
            "_model_name": "LayoutModel",
            "_view_count": null,
            "_view_module": "@jupyter-widgets/base",
            "_view_module_version": "1.2.0",
            "_view_name": "LayoutView",
            "align_content": null,
            "align_items": null,
            "align_self": null,
            "border": null,
            "bottom": null,
            "display": null,
            "flex": null,
            "flex_flow": null,
            "grid_area": null,
            "grid_auto_columns": null,
            "grid_auto_flow": null,
            "grid_auto_rows": null,
            "grid_column": null,
            "grid_gap": null,
            "grid_row": null,
            "grid_template_areas": null,
            "grid_template_columns": null,
            "grid_template_rows": null,
            "height": null,
            "justify_content": null,
            "justify_items": null,
            "left": null,
            "margin": null,
            "max_height": null,
            "max_width": null,
            "min_height": null,
            "min_width": null,
            "object_fit": null,
            "object_position": null,
            "order": null,
            "overflow": null,
            "overflow_x": null,
            "overflow_y": null,
            "padding": null,
            "right": null,
            "top": null,
            "visibility": null,
            "width": null
          }
        }
      }
    }
  },
  "nbformat": 4,
  "nbformat_minor": 0
}