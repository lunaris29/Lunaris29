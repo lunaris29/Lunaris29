{
  "nbformat": 4,
  "nbformat_minor": 0,
  "metadata": {
    "colab": {
      "provenance": []
    },
    "kernelspec": {
      "name": "python3",
      "display_name": "Python 3"
    },
    "language_info": {
      "name": "python"
    }
  },
  "cells": [
    {
      "cell_type": "markdown",
      "source": [
        "MBTI Type Dataset Fetch via KaggleHub"
      ],
      "metadata": {
        "id": "AW9LTycATgT6"
      }
    },
    {
      "cell_type": "code",
      "source": [
        "import kagglehub\n",
        "import pandas as pd\n",
        "import re\n",
        "from pathlib import Path"
      ],
      "metadata": {
        "id": "YsQLFmC9Tilw"
      },
      "execution_count": 3,
      "outputs": []
    },
    {
      "cell_type": "code",
      "source": [
        "path = kagglehub.dataset_download(\"datasnaek/mbti-type\")\n",
        "path = Path(path)"
      ],
      "metadata": {
        "id": "menznAizXbCa"
      },
      "execution_count": 4,
      "outputs": []
    },
    {
      "cell_type": "markdown",
      "source": [
        "Dataset Preprocessing"
      ],
      "metadata": {
        "id": "CGVcbGIbVS_E"
      }
    },
    {
      "cell_type": "code",
      "source": [
        "print(list(path.rglob(\"*.csv\")))"
      ],
      "metadata": {
        "colab": {
          "base_uri": "https://localhost:8080/"
        },
        "id": "26xy532HTmr7",
        "outputId": "ec5f1052-d322-4f2e-b721-436cca68ab89"
      },
      "execution_count": 5,
      "outputs": [
        {
          "output_type": "stream",
          "name": "stdout",
          "text": [
            "[PosixPath('/kaggle/input/mbti-type/mbti_1.csv')]\n"
          ]
        }
      ]
    },
    {
      "cell_type": "code",
      "source": [
        "df = pd.read_csv(\"/kaggle/input/mbti-type/mbti_1.csv\")\n",
        "print(df.head())\n",
        "print(df['type'].value_counts())"
      ],
      "metadata": {
        "colab": {
          "base_uri": "https://localhost:8080/"
        },
        "id": "CYW6-9MdTm0d",
        "outputId": "d272ab39-cc93-4811-dbe4-15eb38dca84e"
      },
      "execution_count": 6,
      "outputs": [
        {
          "output_type": "stream",
          "name": "stdout",
          "text": [
            "   type                                              posts\n",
            "0  INFJ  'http://www.youtube.com/watch?v=qsXHcwe3krw|||...\n",
            "1  ENTP  'I'm finding the lack of me in these posts ver...\n",
            "2  INTP  'Good one  _____   https://www.youtube.com/wat...\n",
            "3  INTJ  'Dear INTP,   I enjoyed our conversation the o...\n",
            "4  ENTJ  'You're fired.|||That's another silly misconce...\n",
            "type\n",
            "INFP    1832\n",
            "INFJ    1470\n",
            "INTP    1304\n",
            "INTJ    1091\n",
            "ENTP     685\n",
            "ENFP     675\n",
            "ISTP     337\n",
            "ISFP     271\n",
            "ENTJ     231\n",
            "ISTJ     205\n",
            "ENFJ     190\n",
            "ISFJ     166\n",
            "ESTP      89\n",
            "ESFP      48\n",
            "ESFJ      42\n",
            "ESTJ      39\n",
            "Name: count, dtype: int64\n"
          ]
        }
      ]
    },
    {
      "cell_type": "code",
      "source": [
        "def clean_step1(text):\n",
        "    text = text.replace(\"|||\", \" \")\n",
        "    text = text.replace(\"\\n\", \" \").replace(\"\\t\", \" \").strip()\n",
        "    return text\n",
        "\n",
        "df['clean_posts'] = df['posts'].apply(clean_step1)"
      ],
      "metadata": {
        "id": "651cIAHeTm6U"
      },
      "execution_count": 7,
      "outputs": []
    },
    {
      "cell_type": "code",
      "source": [
        "def clean_step2(text):\n",
        "    text = re.sub(r'http\\S+', '', text)\n",
        "    text = re.sub(r'[^a-zA-Z\\s]', '', text)\n",
        "    text = text.lower()\n",
        "    return text\n",
        "\n",
        "df['clean_posts'] = df['clean_posts'].apply(clean_step2)"
      ],
      "metadata": {
        "id": "XkcXjO-ZTm-q"
      },
      "execution_count": 8,
      "outputs": []
    },
    {
      "cell_type": "code",
      "source": [
        "import nltk\n",
        "nltk.download('stopwords')\n",
        "from nltk.corpus import stopwords\n",
        "\n",
        "stop_words = set(stopwords.words('english'))\n",
        "\n",
        "def clean_step3(text):\n",
        "    words = text.split()\n",
        "    filtered = [word for word in words if word not in stop_words]\n",
        "    return ' '.join(filtered)\n",
        "\n",
        "df['clean_posts'] = df['clean_posts'].apply(clean_step3)"
      ],
      "metadata": {
        "colab": {
          "base_uri": "https://localhost:8080/"
        },
        "id": "z4eeRfCCTnB2",
        "outputId": "a9a11e23-efad-441e-c530-3703f47c6f25"
      },
      "execution_count": 9,
      "outputs": [
        {
          "output_type": "stream",
          "name": "stderr",
          "text": [
            "[nltk_data] Downloading package stopwords to /root/nltk_data...\n",
            "[nltk_data]   Package stopwords is already up-to-date!\n"
          ]
        }
      ]
    },
    {
      "cell_type": "code",
      "source": [
        "import nltk\n",
        "from nltk.stem import WordNetLemmatizer\n",
        "nltk.download('wordnet')\n",
        "\n",
        "lemmatizer = WordNetLemmatizer()\n",
        "\n",
        "def clean_step4(text):\n",
        "    words = text.split()\n",
        "    lemmatized = [lemmatizer.lemmatize(word) for word in words]\n",
        "    return ' '.join(lemmatized)\n",
        "\n",
        "df['clean_posts'] = df['clean_posts'].apply(clean_step4)"
      ],
      "metadata": {
        "colab": {
          "base_uri": "https://localhost:8080/"
        },
        "id": "pcMwY4I5bmXT",
        "outputId": "1b070e47-0240-4ad8-9f66-bf314ccade68"
      },
      "execution_count": 10,
      "outputs": [
        {
          "output_type": "stream",
          "name": "stderr",
          "text": [
            "[nltk_data] Downloading package wordnet to /root/nltk_data...\n",
            "[nltk_data]   Package wordnet is already up-to-date!\n"
          ]
        }
      ]
    },
    {
      "cell_type": "code",
      "source": [
        "print(df[['type', 'clean_posts']].head())"
      ],
      "metadata": {
        "colab": {
          "base_uri": "https://localhost:8080/"
        },
        "id": "oLUWrxS4TnHz",
        "outputId": "ca3426e1-b3b0-47aa-ea83-0b6c5cf83d60"
      },
      "execution_count": 11,
      "outputs": [
        {
          "output_type": "stream",
          "name": "stdout",
          "text": [
            "   type                                        clean_posts\n",
            "0  INFJ  enfp intj moment sportscenter top ten play pra...\n",
            "1  ENTP  im finding lack post alarming sex boring posit...\n",
            "2  INTP  good one course say know thats blessing curse ...\n",
            "3  INTJ  dear intp enjoyed conversation day esoteric ga...\n",
            "4  ENTJ  youre fired thats another silly misconception ...\n"
          ]
        }
      ]
    },
    {
      "cell_type": "markdown",
      "source": [
        "Feature Extrction"
      ],
      "metadata": {
        "id": "rS3BdetWYxrW"
      }
    },
    {
      "cell_type": "code",
      "source": [
        "from sklearn.feature_extraction.text import TfidfVectorizer\n",
        "\n",
        "tfidf = TfidfVectorizer(max_features=5000, ngram_range=(1,2))\n",
        "X = tfidf.fit_transform(df['clean_posts'])"
      ],
      "metadata": {
        "id": "u5Xk3A6CYgjQ"
      },
      "execution_count": 12,
      "outputs": []
    },
    {
      "cell_type": "markdown",
      "source": [
        "Label Encoding"
      ],
      "metadata": {
        "id": "m1YfKEhOZQxt"
      }
    },
    {
      "cell_type": "code",
      "source": [
        "from sklearn.preprocessing import LabelEncoder\n",
        "\n",
        "le = LabelEncoder()\n",
        "y = le.fit_transform(df['type'])\n",
        "print(le.classes_)\n",
        "print(y[:10])"
      ],
      "metadata": {
        "colab": {
          "base_uri": "https://localhost:8080/"
        },
        "id": "aUFMtz9tYgl1",
        "outputId": "21b72014-bd20-4364-ec7e-d87f315eefca"
      },
      "execution_count": 13,
      "outputs": [
        {
          "output_type": "stream",
          "name": "stdout",
          "text": [
            "['ENFJ' 'ENFP' 'ENTJ' 'ENTP' 'ESFJ' 'ESFP' 'ESTJ' 'ESTP' 'INFJ' 'INFP'\n",
            " 'INTJ' 'INTP' 'ISFJ' 'ISFP' 'ISTJ' 'ISTP']\n",
            "[ 8  3 11 10  2 10  8 10  8 11]\n"
          ]
        }
      ]
    },
    {
      "cell_type": "markdown",
      "source": [
        "Train / Test Split"
      ],
      "metadata": {
        "id": "J_dzHSARZgXI"
      }
    },
    {
      "cell_type": "code",
      "source": [
        "from sklearn.model_selection import train_test_split\n",
        "\n",
        "X_train, X_test, y_train, y_test = train_test_split(\n",
        "    X, y, test_size=0.2, random_state=42, stratify=y\n",
        ")\n",
        "\n",
        "print(X_train.shape, X_test.shape)\n",
        "print(y_train.shape, y_test.shape)"
      ],
      "metadata": {
        "colab": {
          "base_uri": "https://localhost:8080/"
        },
        "id": "4bXxt6ovYgoF",
        "outputId": "13bade2b-fec1-4233-a8b0-4fb8e3fcbd34"
      },
      "execution_count": 14,
      "outputs": [
        {
          "output_type": "stream",
          "name": "stdout",
          "text": [
            "(6940, 5000) (1735, 5000)\n",
            "(6940,) (1735,)\n"
          ]
        }
      ]
    },
    {
      "cell_type": "markdown",
      "source": [
        "Model 1 - Logistic Regression"
      ],
      "metadata": {
        "id": "gCjs2oHLZyYY"
      }
    },
    {
      "cell_type": "code",
      "source": [
        "from sklearn.linear_model import LogisticRegression\n",
        "from sklearn.metrics import classification_report, accuracy_score\n",
        "\n",
        "lr_model = LogisticRegression(max_iter=1000, class_weight='balanced', random_state=42)\n",
        "lr_model.fit(X_train, y_train)\n",
        "\n",
        "y_pred_lr = lr_model.predict(X_test)\n",
        "\n",
        "print(\"=== Logistic Regression ===\")\n",
        "print(\"Accuracy:\", accuracy_score(y_test, y_pred_lr))\n",
        "print(\"Classification Report:\\n\", classification_report(y_test, y_pred_lr))"
      ],
      "metadata": {
        "colab": {
          "base_uri": "https://localhost:8080/"
        },
        "id": "q24sardaYgqq",
        "outputId": "c1422e0b-5835-440f-8de5-8f2f60d03709"
      },
      "execution_count": 15,
      "outputs": [
        {
          "output_type": "stream",
          "name": "stdout",
          "text": [
            "=== Logistic Regression ===\n",
            "Accuracy: 0.6749279538904899\n",
            "Classification Report:\n",
            "               precision    recall  f1-score   support\n",
            "\n",
            "           0       0.47      0.68      0.56        38\n",
            "           1       0.66      0.64      0.65       135\n",
            "           2       0.46      0.65      0.54        46\n",
            "           3       0.61      0.63      0.62       137\n",
            "           4       0.27      0.33      0.30         9\n",
            "           5       0.00      0.00      0.00        10\n",
            "           6       0.57      0.50      0.53         8\n",
            "           7       0.38      0.56      0.45        18\n",
            "           8       0.81      0.67      0.73       294\n",
            "           9       0.77      0.71      0.74       366\n",
            "          10       0.68      0.65      0.66       218\n",
            "          11       0.75      0.76      0.75       261\n",
            "          12       0.61      0.70      0.65        33\n",
            "          13       0.49      0.59      0.54        54\n",
            "          14       0.49      0.56      0.52        41\n",
            "          15       0.61      0.76      0.68        67\n",
            "\n",
            "    accuracy                           0.67      1735\n",
            "   macro avg       0.54      0.59      0.56      1735\n",
            "weighted avg       0.69      0.67      0.68      1735\n",
            "\n"
          ]
        }
      ]
    },
    {
      "cell_type": "markdown",
      "source": [
        "Model 2 - Linear SVC"
      ],
      "metadata": {
        "id": "E3LY-0WwaHE9"
      }
    },
    {
      "cell_type": "code",
      "source": [
        "from sklearn.svm import LinearSVC\n",
        "from sklearn.metrics import classification_report, accuracy_score\n",
        "\n",
        "svc_model = LinearSVC(random_state=42)\n",
        "svc_model.fit(X_train, y_train)\n",
        "\n",
        "y_pred_svc = svc_model.predict(X_test)\n",
        "\n",
        "print(\"=== Linear SVC ===\")\n",
        "print(\"Accuracy:\", accuracy_score(y_test, y_pred_svc))\n",
        "print(\"Classification Report:\\n\", classification_report(y_test, y_pred_svc))"
      ],
      "metadata": {
        "colab": {
          "base_uri": "https://localhost:8080/"
        },
        "id": "c4Tkoe8zYgtd",
        "outputId": "5d0cbcd8-9c09-4f7a-c555-4b48ea031bef"
      },
      "execution_count": 16,
      "outputs": [
        {
          "output_type": "stream",
          "name": "stdout",
          "text": [
            "=== Linear SVC ===\n",
            "Accuracy: 0.6374639769452449\n",
            "Classification Report:\n",
            "               precision    recall  f1-score   support\n",
            "\n",
            "           0       0.61      0.37      0.46        38\n",
            "           1       0.65      0.57      0.61       135\n",
            "           2       0.63      0.41      0.50        46\n",
            "           3       0.57      0.53      0.55       137\n",
            "           4       1.00      0.33      0.50         9\n",
            "           5       0.00      0.00      0.00        10\n",
            "           6       1.00      0.25      0.40         8\n",
            "           7       0.58      0.39      0.47        18\n",
            "           8       0.65      0.69      0.67       294\n",
            "           9       0.64      0.76      0.69       366\n",
            "          10       0.59      0.62      0.60       218\n",
            "          11       0.68      0.78      0.73       261\n",
            "          12       0.71      0.45      0.56        33\n",
            "          13       0.63      0.44      0.52        54\n",
            "          14       0.50      0.32      0.39        41\n",
            "          15       0.68      0.58      0.63        67\n",
            "\n",
            "    accuracy                           0.64      1735\n",
            "   macro avg       0.63      0.47      0.52      1735\n",
            "weighted avg       0.63      0.64      0.63      1735\n",
            "\n"
          ]
        },
        {
          "output_type": "stream",
          "name": "stderr",
          "text": [
            "/usr/local/lib/python3.11/dist-packages/sklearn/metrics/_classification.py:1565: UndefinedMetricWarning: Precision is ill-defined and being set to 0.0 in labels with no predicted samples. Use `zero_division` parameter to control this behavior.\n",
            "  _warn_prf(average, modifier, f\"{metric.capitalize()} is\", len(result))\n",
            "/usr/local/lib/python3.11/dist-packages/sklearn/metrics/_classification.py:1565: UndefinedMetricWarning: Precision is ill-defined and being set to 0.0 in labels with no predicted samples. Use `zero_division` parameter to control this behavior.\n",
            "  _warn_prf(average, modifier, f\"{metric.capitalize()} is\", len(result))\n",
            "/usr/local/lib/python3.11/dist-packages/sklearn/metrics/_classification.py:1565: UndefinedMetricWarning: Precision is ill-defined and being set to 0.0 in labels with no predicted samples. Use `zero_division` parameter to control this behavior.\n",
            "  _warn_prf(average, modifier, f\"{metric.capitalize()} is\", len(result))\n"
          ]
        }
      ]
    },
    {
      "cell_type": "markdown",
      "source": [
        "Model 3 - Random Forest Classifier"
      ],
      "metadata": {
        "id": "d7G92o5JaQL9"
      }
    },
    {
      "cell_type": "code",
      "source": [
        "from sklearn.ensemble import RandomForestClassifier\n",
        "from sklearn.metrics import classification_report, accuracy_score\n",
        "\n",
        "rf_model = RandomForestClassifier(n_estimators=100, random_state=42)\n",
        "rf_model.fit(X_train, y_train)\n",
        "\n",
        "y_pred_rf = rf_model.predict(X_test)\n",
        "\n",
        "print(\"=== Random Forest Classifier ===\")\n",
        "print(\"Accuracy:\", accuracy_score(y_test, y_pred_rf))\n",
        "print(\"Classification Report:\\n\", classification_report(y_test, y_pred_rf))"
      ],
      "metadata": {
        "colab": {
          "base_uri": "https://localhost:8080/"
        },
        "id": "wmHvPdkHYgwg",
        "outputId": "0aec0d86-a204-42bd-e37d-0287e87df2bb"
      },
      "execution_count": 17,
      "outputs": [
        {
          "output_type": "stream",
          "name": "stdout",
          "text": [
            "=== Random Forest Classifier ===\n",
            "Accuracy: 0.577521613832853\n",
            "Classification Report:\n",
            "               precision    recall  f1-score   support\n",
            "\n",
            "           0       1.00      0.03      0.05        38\n",
            "           1       0.79      0.47      0.59       135\n",
            "           2       1.00      0.07      0.12        46\n",
            "           3       0.67      0.44      0.53       137\n",
            "           4       0.00      0.00      0.00         9\n",
            "           5       0.00      0.00      0.00        10\n",
            "           6       0.00      0.00      0.00         8\n",
            "           7       0.00      0.00      0.00        18\n",
            "           8       0.54      0.69      0.61       294\n",
            "           9       0.51      0.87      0.64       366\n",
            "          10       0.66      0.58      0.62       218\n",
            "          11       0.61      0.78      0.68       261\n",
            "          12       1.00      0.03      0.06        33\n",
            "          13       1.00      0.04      0.07        54\n",
            "          14       0.50      0.02      0.05        41\n",
            "          15       0.75      0.27      0.40        67\n",
            "\n",
            "    accuracy                           0.58      1735\n",
            "   macro avg       0.56      0.27      0.28      1735\n",
            "weighted avg       0.63      0.58      0.53      1735\n",
            "\n"
          ]
        },
        {
          "output_type": "stream",
          "name": "stderr",
          "text": [
            "/usr/local/lib/python3.11/dist-packages/sklearn/metrics/_classification.py:1565: UndefinedMetricWarning: Precision is ill-defined and being set to 0.0 in labels with no predicted samples. Use `zero_division` parameter to control this behavior.\n",
            "  _warn_prf(average, modifier, f\"{metric.capitalize()} is\", len(result))\n",
            "/usr/local/lib/python3.11/dist-packages/sklearn/metrics/_classification.py:1565: UndefinedMetricWarning: Precision is ill-defined and being set to 0.0 in labels with no predicted samples. Use `zero_division` parameter to control this behavior.\n",
            "  _warn_prf(average, modifier, f\"{metric.capitalize()} is\", len(result))\n",
            "/usr/local/lib/python3.11/dist-packages/sklearn/metrics/_classification.py:1565: UndefinedMetricWarning: Precision is ill-defined and being set to 0.0 in labels with no predicted samples. Use `zero_division` parameter to control this behavior.\n",
            "  _warn_prf(average, modifier, f\"{metric.capitalize()} is\", len(result))\n"
          ]
        }
      ]
    },
    {
      "cell_type": "markdown",
      "source": [
        "Hyperparameter Tuning (with model 1)"
      ],
      "metadata": {
        "id": "SciDaTE8mH3P"
      }
    },
    {
      "cell_type": "code",
      "source": [
        "from sklearn.model_selection import GridSearchCV\n",
        "from sklearn.linear_model import LogisticRegression\n",
        "from sklearn.metrics import classification_report, accuracy_score\n",
        "\n",
        "param_grid = {\n",
        "    'C': [0.01, 0.1, 1, 10],\n",
        "    'penalty': ['l2'],\n",
        "    'solver': ['liblinear', 'saga'],\n",
        "    'class_weight': [None, 'balanced']\n",
        "}\n",
        "\n",
        "grid_search = GridSearchCV(\n",
        "    LogisticRegression(max_iter=1000, random_state=42),\n",
        "    param_grid,\n",
        "    cv=5,\n",
        "    scoring='accuracy',\n",
        "    verbose=1,\n",
        "    n_jobs=-1\n",
        ")\n",
        "\n",
        "grid_search.fit(X_train, y_train)\n",
        "\n",
        "best_model = grid_search.best_estimator_\n",
        "y_pred_best = best_model.predict(X_test)\n",
        "\n",
        "print(\"=== Tuned Logistic Regression ===\")\n",
        "print(\"Best Params:\", grid_search.best_params_)\n",
        "print(\"Accuracy:\", accuracy_score(y_test, y_pred_best))\n",
        "print(\"Classification Report:\\n\", classification_report(y_test, y_pred_best))\n"
      ],
      "metadata": {
        "colab": {
          "base_uri": "https://localhost:8080/"
        },
        "id": "U9ucsQExmHCA",
        "outputId": "8516a11a-3fb7-4a63-eda6-c67ae112c828"
      },
      "execution_count": 18,
      "outputs": [
        {
          "output_type": "stream",
          "name": "stdout",
          "text": [
            "Fitting 5 folds for each of 16 candidates, totalling 80 fits\n",
            "=== Tuned Logistic Regression ===\n",
            "Best Params: {'C': 1, 'class_weight': 'balanced', 'penalty': 'l2', 'solver': 'liblinear'}\n",
            "Accuracy: 0.6899135446685879\n",
            "Classification Report:\n",
            "               precision    recall  f1-score   support\n",
            "\n",
            "           0       0.59      0.68      0.63        38\n",
            "           1       0.68      0.63      0.65       135\n",
            "           2       0.53      0.65      0.58        46\n",
            "           3       0.62      0.62      0.62       137\n",
            "           4       0.27      0.33      0.30         9\n",
            "           5       0.00      0.00      0.00        10\n",
            "           6       0.67      0.50      0.57         8\n",
            "           7       0.45      0.56      0.50        18\n",
            "           8       0.81      0.66      0.73       294\n",
            "           9       0.73      0.77      0.75       366\n",
            "          10       0.69      0.64      0.66       218\n",
            "          11       0.75      0.80      0.78       261\n",
            "          12       0.66      0.70      0.68        33\n",
            "          13       0.55      0.61      0.58        54\n",
            "          14       0.55      0.56      0.55        41\n",
            "          15       0.62      0.76      0.68        67\n",
            "\n",
            "    accuracy                           0.69      1735\n",
            "   macro avg       0.57      0.59      0.58      1735\n",
            "weighted avg       0.70      0.69      0.69      1735\n",
            "\n"
          ]
        }
      ]
    },
    {
      "cell_type": "markdown",
      "source": [
        "Visualization"
      ],
      "metadata": {
        "id": "VUgA_EY05dXj"
      }
    },
    {
      "cell_type": "code",
      "source": [
        "import matplotlib.pyplot as plt\n",
        "import seaborn as sns\n",
        "from sklearn.metrics import confusion_matrix\n",
        "\n",
        "cm = confusion_matrix(y_test, y_pred_lr)\n",
        "plt.figure(figsize=(12, 8))\n",
        "sns.heatmap(cm, annot=True, fmt='d', cmap='Blues')\n",
        "plt.xlabel(\"Predicted\")\n",
        "plt.ylabel(\"True\")\n",
        "plt.title(\"Confusion Matrix (Logistic Regression)\")\n",
        "plt.show()"
      ],
      "metadata": {
        "colab": {
          "base_uri": "https://localhost:8080/",
          "height": 718
        },
        "id": "_rqcjxg9YgzL",
        "outputId": "5b6a6435-9a9a-4c40-c713-6151ee8f4504"
      },
      "execution_count": 19,
      "outputs": [
        {
          "output_type": "display_data",
          "data": {
            "text/plain": [
              "<Figure size 1200x800 with 2 Axes>"
            ],
            "image/png": "[encoded data removed]"
          },
          "metadata": {}
        }
      ]
    },
    {
      "cell_type": "code",
      "source": [
        "import pandas as pd\n",
        "from sklearn.metrics import classification_report\n",
        "\n",
        "report = classification_report(y_test, y_pred_lr, output_dict=True)\n",
        "df_report = pd.DataFrame(report).transpose()\n",
        "\n",
        "df_report[['precision', 'recall', 'f1-score']].iloc[:-3].plot(\n",
        "    kind='bar', figsize=(15, 6), title=\"Precision / Recall / F1-score by Class\"\n",
        ")\n",
        "plt.xticks(rotation=45)\n",
        "plt.grid(axis='y')\n",
        "plt.tight_layout()\n",
        "plt.show()"
      ],
      "metadata": {
        "colab": {
          "base_uri": "https://localhost:8080/",
          "height": 492
        },
        "id": "vfNQnNxSYg1e",
        "outputId": "db5ee94d-8ef4-4ee1-9097-73593667e673"
      },
      "execution_count": 20,
      "outputs": [
        {
          "output_type": "display_data",
          "data": {
            "text/plain": [
              "<Figure size 1500x600 with 1 Axes>"
            ],
            "image/png": "[encoded data removed]"
          },
          "metadata": {}
        }
      ]
    }
  ]
}